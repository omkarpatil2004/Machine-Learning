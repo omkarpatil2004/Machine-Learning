{
 "cells": [
  {
   "cell_type": "code",
   "execution_count": 2,
   "id": "836edbdf",
   "metadata": {},
   "outputs": [],
   "source": [
    "import pandas as pd\n",
    "import numpy as np\n",
    "import matplotlib.pyplot as plt\n",
    "import seaborn as sns"
   ]
  },
  {
   "cell_type": "code",
   "execution_count": 3,
   "id": "0bf111aa",
   "metadata": {},
   "outputs": [],
   "source": [
    "df = pd.read_csv('ASTRAMICRO.NS.csv')"
   ]
  },
  {
   "cell_type": "code",
   "execution_count": 4,
   "id": "59a3a293",
   "metadata": {},
   "outputs": [
    {
     "data": {
      "text/html": [
       "<div>\n",
       "<style scoped>\n",
       "    .dataframe tbody tr th:only-of-type {\n",
       "        vertical-align: middle;\n",
       "    }\n",
       "\n",
       "    .dataframe tbody tr th {\n",
       "        vertical-align: top;\n",
       "    }\n",
       "\n",
       "    .dataframe thead th {\n",
       "        text-align: right;\n",
       "    }\n",
       "</style>\n",
       "<table border=\"1\" class=\"dataframe\">\n",
       "  <thead>\n",
       "    <tr style=\"text-align: right;\">\n",
       "      <th></th>\n",
       "      <th>Date</th>\n",
       "      <th>Open</th>\n",
       "      <th>High</th>\n",
       "      <th>Low</th>\n",
       "      <th>Close</th>\n",
       "      <th>Adj Close</th>\n",
       "      <th>Volume</th>\n",
       "    </tr>\n",
       "  </thead>\n",
       "  <tbody>\n",
       "    <tr>\n",
       "      <th>0</th>\n",
       "      <td>2004-11-01</td>\n",
       "      <td>26.733334</td>\n",
       "      <td>28.000000</td>\n",
       "      <td>25.466665</td>\n",
       "      <td>27.973333</td>\n",
       "      <td>23.467009</td>\n",
       "      <td>153375</td>\n",
       "    </tr>\n",
       "    <tr>\n",
       "      <th>1</th>\n",
       "      <td>2004-11-08</td>\n",
       "      <td>29.333332</td>\n",
       "      <td>29.333332</td>\n",
       "      <td>27.466665</td>\n",
       "      <td>27.866667</td>\n",
       "      <td>23.377522</td>\n",
       "      <td>47760</td>\n",
       "    </tr>\n",
       "    <tr>\n",
       "      <th>2</th>\n",
       "      <td>2004-11-15</td>\n",
       "      <td>27.866667</td>\n",
       "      <td>28.966665</td>\n",
       "      <td>27.000000</td>\n",
       "      <td>27.466665</td>\n",
       "      <td>23.041958</td>\n",
       "      <td>42465</td>\n",
       "    </tr>\n",
       "    <tr>\n",
       "      <th>3</th>\n",
       "      <td>2004-11-22</td>\n",
       "      <td>27.933332</td>\n",
       "      <td>30.700001</td>\n",
       "      <td>27.333332</td>\n",
       "      <td>30.506666</td>\n",
       "      <td>25.592236</td>\n",
       "      <td>156330</td>\n",
       "    </tr>\n",
       "    <tr>\n",
       "      <th>4</th>\n",
       "      <td>2004-11-29</td>\n",
       "      <td>30.593332</td>\n",
       "      <td>31.093332</td>\n",
       "      <td>27.420000</td>\n",
       "      <td>27.773333</td>\n",
       "      <td>23.299223</td>\n",
       "      <td>56370</td>\n",
       "    </tr>\n",
       "  </tbody>\n",
       "</table>\n",
       "</div>"
      ],
      "text/plain": [
       "         Date       Open       High        Low      Close  Adj Close  Volume\n",
       "0  2004-11-01  26.733334  28.000000  25.466665  27.973333  23.467009  153375\n",
       "1  2004-11-08  29.333332  29.333332  27.466665  27.866667  23.377522   47760\n",
       "2  2004-11-15  27.866667  28.966665  27.000000  27.466665  23.041958   42465\n",
       "3  2004-11-22  27.933332  30.700001  27.333332  30.506666  25.592236  156330\n",
       "4  2004-11-29  30.593332  31.093332  27.420000  27.773333  23.299223   56370"
      ]
     },
     "execution_count": 4,
     "metadata": {},
     "output_type": "execute_result"
    }
   ],
   "source": [
    "df.head()"
   ]
  },
  {
   "cell_type": "code",
   "execution_count": 5,
   "id": "94d38345",
   "metadata": {},
   "outputs": [
    {
     "name": "stdout",
     "output_type": "stream",
     "text": [
      "<class 'pandas.core.frame.DataFrame'>\n",
      "RangeIndex: 953 entries, 0 to 952\n",
      "Data columns (total 7 columns):\n",
      " #   Column     Non-Null Count  Dtype  \n",
      "---  ------     --------------  -----  \n",
      " 0   Date       953 non-null    object \n",
      " 1   Open       953 non-null    float64\n",
      " 2   High       953 non-null    float64\n",
      " 3   Low        953 non-null    float64\n",
      " 4   Close      953 non-null    float64\n",
      " 5   Adj Close  953 non-null    float64\n",
      " 6   Volume     953 non-null    int64  \n",
      "dtypes: float64(5), int64(1), object(1)\n",
      "memory usage: 52.2+ KB\n"
     ]
    }
   ],
   "source": [
    "df.info()"
   ]
  },
  {
   "cell_type": "code",
   "execution_count": 6,
   "id": "5316c038",
   "metadata": {},
   "outputs": [
    {
     "data": {
      "text/html": [
       "<div>\n",
       "<style scoped>\n",
       "    .dataframe tbody tr th:only-of-type {\n",
       "        vertical-align: middle;\n",
       "    }\n",
       "\n",
       "    .dataframe tbody tr th {\n",
       "        vertical-align: top;\n",
       "    }\n",
       "\n",
       "    .dataframe thead th {\n",
       "        text-align: right;\n",
       "    }\n",
       "</style>\n",
       "<table border=\"1\" class=\"dataframe\">\n",
       "  <thead>\n",
       "    <tr style=\"text-align: right;\">\n",
       "      <th></th>\n",
       "      <th>Open</th>\n",
       "      <th>High</th>\n",
       "      <th>Low</th>\n",
       "      <th>Close</th>\n",
       "      <th>Adj Close</th>\n",
       "      <th>Volume</th>\n",
       "    </tr>\n",
       "  </thead>\n",
       "  <tbody>\n",
       "    <tr>\n",
       "      <th>count</th>\n",
       "      <td>953.000000</td>\n",
       "      <td>953.000000</td>\n",
       "      <td>953.000000</td>\n",
       "      <td>953.000000</td>\n",
       "      <td>953.000000</td>\n",
       "      <td>9.530000e+02</td>\n",
       "    </tr>\n",
       "    <tr>\n",
       "      <th>mean</th>\n",
       "      <td>97.150902</td>\n",
       "      <td>102.722452</td>\n",
       "      <td>92.379521</td>\n",
       "      <td>97.076971</td>\n",
       "      <td>90.204363</td>\n",
       "      <td>1.935141e+06</td>\n",
       "    </tr>\n",
       "    <tr>\n",
       "      <th>std</th>\n",
       "      <td>60.654891</td>\n",
       "      <td>64.173825</td>\n",
       "      <td>57.859788</td>\n",
       "      <td>60.778104</td>\n",
       "      <td>60.823523</td>\n",
       "      <td>2.796242e+06</td>\n",
       "    </tr>\n",
       "    <tr>\n",
       "      <th>min</th>\n",
       "      <td>23.200001</td>\n",
       "      <td>24.950001</td>\n",
       "      <td>21.966665</td>\n",
       "      <td>23.200001</td>\n",
       "      <td>19.980383</td>\n",
       "      <td>4.246500e+04</td>\n",
       "    </tr>\n",
       "    <tr>\n",
       "      <th>25%</th>\n",
       "      <td>43.733334</td>\n",
       "      <td>46.299999</td>\n",
       "      <td>41.833332</td>\n",
       "      <td>43.500000</td>\n",
       "      <td>38.378746</td>\n",
       "      <td>4.703090e+05</td>\n",
       "    </tr>\n",
       "    <tr>\n",
       "      <th>50%</th>\n",
       "      <td>95.000000</td>\n",
       "      <td>99.333336</td>\n",
       "      <td>88.500000</td>\n",
       "      <td>93.949997</td>\n",
       "      <td>84.911644</td>\n",
       "      <td>1.014542e+06</td>\n",
       "    </tr>\n",
       "    <tr>\n",
       "      <th>75%</th>\n",
       "      <td>122.500000</td>\n",
       "      <td>128.699997</td>\n",
       "      <td>116.250000</td>\n",
       "      <td>122.550003</td>\n",
       "      <td>113.598564</td>\n",
       "      <td>2.105121e+06</td>\n",
       "    </tr>\n",
       "    <tr>\n",
       "      <th>max</th>\n",
       "      <td>357.899994</td>\n",
       "      <td>374.500000</td>\n",
       "      <td>336.250000</td>\n",
       "      <td>356.700012</td>\n",
       "      <td>356.700012</td>\n",
       "      <td>2.876026e+07</td>\n",
       "    </tr>\n",
       "  </tbody>\n",
       "</table>\n",
       "</div>"
      ],
      "text/plain": [
       "             Open        High         Low       Close   Adj Close  \\\n",
       "count  953.000000  953.000000  953.000000  953.000000  953.000000   \n",
       "mean    97.150902  102.722452   92.379521   97.076971   90.204363   \n",
       "std     60.654891   64.173825   57.859788   60.778104   60.823523   \n",
       "min     23.200001   24.950001   21.966665   23.200001   19.980383   \n",
       "25%     43.733334   46.299999   41.833332   43.500000   38.378746   \n",
       "50%     95.000000   99.333336   88.500000   93.949997   84.911644   \n",
       "75%    122.500000  128.699997  116.250000  122.550003  113.598564   \n",
       "max    357.899994  374.500000  336.250000  356.700012  356.700012   \n",
       "\n",
       "             Volume  \n",
       "count  9.530000e+02  \n",
       "mean   1.935141e+06  \n",
       "std    2.796242e+06  \n",
       "min    4.246500e+04  \n",
       "25%    4.703090e+05  \n",
       "50%    1.014542e+06  \n",
       "75%    2.105121e+06  \n",
       "max    2.876026e+07  "
      ]
     },
     "execution_count": 6,
     "metadata": {},
     "output_type": "execute_result"
    }
   ],
   "source": [
    "df.describe()"
   ]
  },
  {
   "cell_type": "code",
   "execution_count": 11,
   "id": "55886644",
   "metadata": {},
   "outputs": [
    {
     "data": {
      "text/html": [
       "<div>\n",
       "<style scoped>\n",
       "    .dataframe tbody tr th:only-of-type {\n",
       "        vertical-align: middle;\n",
       "    }\n",
       "\n",
       "    .dataframe tbody tr th {\n",
       "        vertical-align: top;\n",
       "    }\n",
       "\n",
       "    .dataframe thead th {\n",
       "        text-align: right;\n",
       "    }\n",
       "</style>\n",
       "<table border=\"1\" class=\"dataframe\">\n",
       "  <thead>\n",
       "    <tr style=\"text-align: right;\">\n",
       "      <th></th>\n",
       "      <th>Open</th>\n",
       "      <th>High</th>\n",
       "      <th>Low</th>\n",
       "      <th>Close</th>\n",
       "      <th>Adj Close</th>\n",
       "      <th>Volume</th>\n",
       "    </tr>\n",
       "  </thead>\n",
       "  <tbody>\n",
       "    <tr>\n",
       "      <th>Open</th>\n",
       "      <td>1.000000</td>\n",
       "      <td>0.994999</td>\n",
       "      <td>0.996369</td>\n",
       "      <td>0.991361</td>\n",
       "      <td>0.987203</td>\n",
       "      <td>0.215374</td>\n",
       "    </tr>\n",
       "    <tr>\n",
       "      <th>High</th>\n",
       "      <td>0.994999</td>\n",
       "      <td>1.000000</td>\n",
       "      <td>0.995484</td>\n",
       "      <td>0.997601</td>\n",
       "      <td>0.992776</td>\n",
       "      <td>0.261554</td>\n",
       "    </tr>\n",
       "    <tr>\n",
       "      <th>Low</th>\n",
       "      <td>0.996369</td>\n",
       "      <td>0.995484</td>\n",
       "      <td>1.000000</td>\n",
       "      <td>0.995764</td>\n",
       "      <td>0.992416</td>\n",
       "      <td>0.221373</td>\n",
       "    </tr>\n",
       "    <tr>\n",
       "      <th>Close</th>\n",
       "      <td>0.991361</td>\n",
       "      <td>0.997601</td>\n",
       "      <td>0.995764</td>\n",
       "      <td>1.000000</td>\n",
       "      <td>0.995884</td>\n",
       "      <td>0.260382</td>\n",
       "    </tr>\n",
       "    <tr>\n",
       "      <th>Adj Close</th>\n",
       "      <td>0.987203</td>\n",
       "      <td>0.992776</td>\n",
       "      <td>0.992416</td>\n",
       "      <td>0.995884</td>\n",
       "      <td>1.000000</td>\n",
       "      <td>0.268798</td>\n",
       "    </tr>\n",
       "    <tr>\n",
       "      <th>Volume</th>\n",
       "      <td>0.215374</td>\n",
       "      <td>0.261554</td>\n",
       "      <td>0.221373</td>\n",
       "      <td>0.260382</td>\n",
       "      <td>0.268798</td>\n",
       "      <td>1.000000</td>\n",
       "    </tr>\n",
       "  </tbody>\n",
       "</table>\n",
       "</div>"
      ],
      "text/plain": [
       "               Open      High       Low     Close  Adj Close    Volume\n",
       "Open       1.000000  0.994999  0.996369  0.991361   0.987203  0.215374\n",
       "High       0.994999  1.000000  0.995484  0.997601   0.992776  0.261554\n",
       "Low        0.996369  0.995484  1.000000  0.995764   0.992416  0.221373\n",
       "Close      0.991361  0.997601  0.995764  1.000000   0.995884  0.260382\n",
       "Adj Close  0.987203  0.992776  0.992416  0.995884   1.000000  0.268798\n",
       "Volume     0.215374  0.261554  0.221373  0.260382   0.268798  1.000000"
      ]
     },
     "execution_count": 11,
     "metadata": {},
     "output_type": "execute_result"
    }
   ],
   "source": [
    "df.corr(numeric_only=True)"
   ]
  },
  {
   "cell_type": "code",
   "execution_count": 12,
   "id": "de620372",
   "metadata": {},
   "outputs": [
    {
     "data": {
      "text/plain": [
       "Date         0\n",
       "Open         0\n",
       "High         0\n",
       "Low          0\n",
       "Close        0\n",
       "Adj Close    0\n",
       "Volume       0\n",
       "dtype: int64"
      ]
     },
     "execution_count": 12,
     "metadata": {},
     "output_type": "execute_result"
    }
   ],
   "source": [
    "df.isnull().sum()"
   ]
  },
  {
   "cell_type": "code",
   "execution_count": 13,
   "id": "5394fcc3",
   "metadata": {},
   "outputs": [
    {
     "data": {
      "image/png": "[encoded data removed]",
      "text/plain": [
       "<Figure size 1200x800 with 1 Axes>"
      ]
     },
     "metadata": {},
     "output_type": "display_data"
    }
   ],
   "source": [
    "plt.figure(figsize=(12, 8))\n",
    "sns.boxplot(data=df,orient='h')\n",
    "plt.title('Box Plot for every variable')\n",
    "plt.show()"
   ]
  },
  {
   "cell_type": "code",
   "execution_count": 14,
   "id": "fd769809",
   "metadata": {},
   "outputs": [
    {
     "data": {
      "text/plain": [
       "Date         953\n",
       "Open         760\n",
       "High         806\n",
       "Low          779\n",
       "Close        855\n",
       "Adj Close    915\n",
       "Volume       952\n",
       "dtype: int64"
      ]
     },
     "execution_count": 14,
     "metadata": {},
     "output_type": "execute_result"
    }
   ],
   "source": [
    "df.nunique()"
   ]
  },
  {
   "cell_type": "code",
   "execution_count": 15,
   "id": "061a9d39",
   "metadata": {},
   "outputs": [],
   "source": [
    "for column in df['Volume']:\n",
    "        q1 = df['Volume'].quantile(0.25)\n",
    "        q3 = df['Volume'].quantile(0.75)\n",
    "        iqr = q3 - q1\n",
    "        lower_bound = q1 - 1.5 * iqr\n",
    "        upper_bound = q3 + 1.5 * iqr\n",
    "        df = df[\n",
    "            (df['Volume'] >= lower_bound) & (df['Volume'] <= upper_bound)\n",
    "        ]"
   ]
  },
  {
   "cell_type": "code",
   "execution_count": 17,
   "id": "a558607b",
   "metadata": {},
   "outputs": [
    {
     "data": {
      "text/plain": [
       "<Axes: xlabel='Volume'>"
      ]
     },
     "execution_count": 17,
     "metadata": {},
     "output_type": "execute_result"
    },
    {
     "data": {
      "image/png": "[encoded data removed]",
      "text/plain": [
       "<Figure size 640x480 with 1 Axes>"
      ]
     },
     "metadata": {},
     "output_type": "display_data"
    }
   ],
   "source": [
    "sns.boxplot(df.Volume,orient='h')"
   ]
  },
  {
   "cell_type": "code",
   "execution_count": 18,
   "id": "3b85f03f",
   "metadata": {},
   "outputs": [],
   "source": [
    "from sklearn.preprocessing import LabelEncoder"
   ]
  },
  {
   "cell_type": "code",
   "execution_count": 19,
   "id": "618287e8",
   "metadata": {},
   "outputs": [],
   "source": [
    "lb = LabelEncoder()"
   ]
  },
  {
   "cell_type": "code",
   "execution_count": 20,
   "id": "5da714d2",
   "metadata": {},
   "outputs": [],
   "source": [
    "df1 = df.copy()"
   ]
  },
  {
   "cell_type": "code",
   "execution_count": 21,
   "id": "fa1b77c8",
   "metadata": {},
   "outputs": [],
   "source": [
    "df1['Date'] = lb.fit_transform(df1['Date'])"
   ]
  },
  {
   "cell_type": "code",
   "execution_count": 22,
   "id": "40d29f9d",
   "metadata": {},
   "outputs": [
    {
     "data": {
      "text/html": [
       "<div>\n",
       "<style scoped>\n",
       "    .dataframe tbody tr th:only-of-type {\n",
       "        vertical-align: middle;\n",
       "    }\n",
       "\n",
       "    .dataframe tbody tr th {\n",
       "        vertical-align: top;\n",
       "    }\n",
       "\n",
       "    .dataframe thead th {\n",
       "        text-align: right;\n",
       "    }\n",
       "</style>\n",
       "<table border=\"1\" class=\"dataframe\">\n",
       "  <thead>\n",
       "    <tr style=\"text-align: right;\">\n",
       "      <th></th>\n",
       "      <th>Date</th>\n",
       "      <th>Open</th>\n",
       "      <th>High</th>\n",
       "      <th>Low</th>\n",
       "      <th>Close</th>\n",
       "      <th>Adj Close</th>\n",
       "      <th>Volume</th>\n",
       "    </tr>\n",
       "  </thead>\n",
       "  <tbody>\n",
       "    <tr>\n",
       "      <th>0</th>\n",
       "      <td>0</td>\n",
       "      <td>26.733334</td>\n",
       "      <td>28.000000</td>\n",
       "      <td>25.466665</td>\n",
       "      <td>27.973333</td>\n",
       "      <td>23.467009</td>\n",
       "      <td>153375</td>\n",
       "    </tr>\n",
       "    <tr>\n",
       "      <th>1</th>\n",
       "      <td>1</td>\n",
       "      <td>29.333332</td>\n",
       "      <td>29.333332</td>\n",
       "      <td>27.466665</td>\n",
       "      <td>27.866667</td>\n",
       "      <td>23.377522</td>\n",
       "      <td>47760</td>\n",
       "    </tr>\n",
       "    <tr>\n",
       "      <th>2</th>\n",
       "      <td>2</td>\n",
       "      <td>27.866667</td>\n",
       "      <td>28.966665</td>\n",
       "      <td>27.000000</td>\n",
       "      <td>27.466665</td>\n",
       "      <td>23.041958</td>\n",
       "      <td>42465</td>\n",
       "    </tr>\n",
       "    <tr>\n",
       "      <th>3</th>\n",
       "      <td>3</td>\n",
       "      <td>27.933332</td>\n",
       "      <td>30.700001</td>\n",
       "      <td>27.333332</td>\n",
       "      <td>30.506666</td>\n",
       "      <td>25.592236</td>\n",
       "      <td>156330</td>\n",
       "    </tr>\n",
       "    <tr>\n",
       "      <th>4</th>\n",
       "      <td>4</td>\n",
       "      <td>30.593332</td>\n",
       "      <td>31.093332</td>\n",
       "      <td>27.420000</td>\n",
       "      <td>27.773333</td>\n",
       "      <td>23.299223</td>\n",
       "      <td>56370</td>\n",
       "    </tr>\n",
       "  </tbody>\n",
       "</table>\n",
       "</div>"
      ],
      "text/plain": [
       "   Date       Open       High        Low      Close  Adj Close  Volume\n",
       "0     0  26.733334  28.000000  25.466665  27.973333  23.467009  153375\n",
       "1     1  29.333332  29.333332  27.466665  27.866667  23.377522   47760\n",
       "2     2  27.866667  28.966665  27.000000  27.466665  23.041958   42465\n",
       "3     3  27.933332  30.700001  27.333332  30.506666  25.592236  156330\n",
       "4     4  30.593332  31.093332  27.420000  27.773333  23.299223   56370"
      ]
     },
     "execution_count": 22,
     "metadata": {},
     "output_type": "execute_result"
    }
   ],
   "source": [
    "df1.head()"
   ]
  },
  {
   "cell_type": "code",
   "execution_count": 23,
   "id": "f6fcce73",
   "metadata": {},
   "outputs": [],
   "source": [
    "from sklearn.svm import SVR\n",
    "from sklearn.model_selection import train_test_split\n",
    "from sklearn.metrics import accuracy_score,r2_score,mean_squared_error,mean_absolute_error"
   ]
  },
  {
   "cell_type": "code",
   "execution_count": 46,
   "id": "e5dbff32",
   "metadata": {},
   "outputs": [],
   "source": [
    "feat_col = ['Open','High','Low','Adj Close','Volume']\n",
    "X = df1[feat_col]\n",
    "y = df1['Close']"
   ]
  },
  {
   "cell_type": "code",
   "execution_count": 47,
   "id": "5f2a7820",
   "metadata": {},
   "outputs": [],
   "source": [
    "X_train, X_test, y_train, y_test = train_test_split(X, y, test_size=0.2, random_state=42)"
   ]
  },
  {
   "cell_type": "code",
   "execution_count": 48,
   "id": "d87c4594-8760-4fc8-9270-efb079a0a90e",
   "metadata": {},
   "outputs": [],
   "source": [
    "from sklearn.preprocessing import StandardScaler\n",
    "# Feature Scaling\n",
    "scaler_X = StandardScaler()\n",
    "scaler_y = StandardScaler()\n",
    "\n",
    "X_train_scaled = scaler_X.fit_transform(X_train)\n",
    "X_test_scaled = scaler_X.transform(X_test)\n",
    "\n",
    "# Convert y_train to NumPy array before reshaping\n",
    "y_train_scaled = scaler_y.fit_transform(y_train.values.reshape(-1, 1)).ravel()"
   ]
  },
  {
   "cell_type": "code",
   "execution_count": 52,
   "id": "9359fc9b",
   "metadata": {},
   "outputs": [],
   "source": [
    "support = SVR()"
   ]
  },
  {
   "cell_type": "code",
   "execution_count": 53,
   "id": "952e783f",
   "metadata": {},
   "outputs": [],
   "source": [
    "model = support.fit(X_train_scaled,y_train_scaled)"
   ]
  },
  {
   "cell_type": "code",
   "execution_count": 56,
   "id": "8cb66118-0555-41b7-8492-2da3b6390703",
   "metadata": {},
   "outputs": [],
   "source": [
    "y_pred_scaled = support.predict(X_test_scaled)\n",
    "y_pred = scaler_y.inverse_transform(y_pred_scaled.reshape(-1, 1)).ravel()"
   ]
  },
  {
   "cell_type": "code",
   "execution_count": 57,
   "id": "c63158df",
   "metadata": {},
   "outputs": [
    {
     "name": "stdout",
     "output_type": "stream",
     "text": [
      "Mean Squared Error: 41.43\n",
      "Mean Absolute Error: 3.49\n",
      "R² Score: 0.99\n"
     ]
    }
   ],
   "source": [
    "mse = mean_squared_error(y_test, y_pred)\n",
    "mae = mean_absolute_error(y_test, y_pred)\n",
    "r2 = r2_score(y_test, y_pred)\n",
    "\n",
    "print(f\"Mean Squared Error: {mse:.2f}\")\n",
    "print(f\"Mean Absolute Error: {mae:.2f}\")\n",
    "print(f\"R² Score: {r2:.2f}\")"
   ]
  },
  {
   "cell_type": "code",
   "execution_count": 59,
   "id": "1b148396-df68-4908-88ff-10a6f84c788b",
   "metadata": {},
   "outputs": [
    {
     "data": {
      "image/png": "[encoded data removed]",
      "text/plain": [
       "<Figure size 1000x600 with 1 Axes>"
      ]
     },
     "metadata": {},
     "output_type": "display_data"
    }
   ],
   "source": [
    "plt.figure(figsize=(10, 6))\n",
    "plt.scatter(y_test, y_pred)\n",
    "plt.xlabel(\"Actual Close Prices\")\n",
    "plt.ylabel(\"Predicted Close Prices\")\n",
    "plt.title(\"SVR Prediction vs Actual\")\n",
    "plt.grid(True)\n",
    "plt.show()"
   ]
  }
 ],
 "metadata": {
  "kernelspec": {
   "display_name": "Python 3 (ipykernel)",
   "language": "python",
   "name": "python3"
  },
  "language_info": {
   "codemirror_mode": {
    "name": "ipython",
    "version": 3
   },
   "file_extension": ".py",
   "mimetype": "text/x-python",
   "name": "python",
   "nbconvert_exporter": "python",
   "pygments_lexer": "ipython3",
   "version": "3.12.5"
  }
 },
 "nbformat": 4,
 "nbformat_minor": 5
}
