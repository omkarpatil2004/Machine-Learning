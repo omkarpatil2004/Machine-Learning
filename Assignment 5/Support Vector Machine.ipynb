{
 "cells": [
  {
   "cell_type": "code",
   "execution_count": 1,
   "id": "95cc4a7a",
   "metadata": {},
   "outputs": [],
   "source": [
    "import pandas as pd\n",
    "import numpy as np\n",
    "import matplotlib.pyplot as plt\n",
    "import seaborn as sns"
   ]
  },
  {
   "cell_type": "code",
   "execution_count": 2,
   "id": "4c453993",
   "metadata": {},
   "outputs": [],
   "source": [
    "df = pd.read_csv('booking.csv')"
   ]
  },
  {
   "cell_type": "code",
   "execution_count": 4,
   "id": "a8fed0a4",
   "metadata": {},
   "outputs": [
    {
     "data": {
      "text/html": [
       "<div>\n",
       "<style scoped>\n",
       "    .dataframe tbody tr th:only-of-type {\n",
       "        vertical-align: middle;\n",
       "    }\n",
       "\n",
       "    .dataframe tbody tr th {\n",
       "        vertical-align: top;\n",
       "    }\n",
       "\n",
       "    .dataframe thead th {\n",
       "        text-align: right;\n",
       "    }\n",
       "</style>\n",
       "<table border=\"1\" class=\"dataframe\">\n",
       "  <thead>\n",
       "    <tr style=\"text-align: right;\">\n",
       "      <th></th>\n",
       "      <th>Booking_ID</th>\n",
       "      <th>number of adults</th>\n",
       "      <th>number of children</th>\n",
       "      <th>number of weekend nights</th>\n",
       "      <th>number of week nights</th>\n",
       "      <th>type of meal</th>\n",
       "      <th>car parking space</th>\n",
       "      <th>room type</th>\n",
       "      <th>lead time</th>\n",
       "      <th>market segment type</th>\n",
       "      <th>repeated</th>\n",
       "      <th>P-C</th>\n",
       "      <th>P-not-C</th>\n",
       "      <th>average price</th>\n",
       "      <th>special requests</th>\n",
       "      <th>date of reservation</th>\n",
       "      <th>booking status</th>\n",
       "    </tr>\n",
       "  </thead>\n",
       "  <tbody>\n",
       "    <tr>\n",
       "      <th>0</th>\n",
       "      <td>INN00001</td>\n",
       "      <td>1</td>\n",
       "      <td>1</td>\n",
       "      <td>2</td>\n",
       "      <td>5</td>\n",
       "      <td>Meal Plan 1</td>\n",
       "      <td>0</td>\n",
       "      <td>Room_Type 1</td>\n",
       "      <td>224</td>\n",
       "      <td>Offline</td>\n",
       "      <td>0</td>\n",
       "      <td>0</td>\n",
       "      <td>0</td>\n",
       "      <td>88.00</td>\n",
       "      <td>0</td>\n",
       "      <td>10/2/2015</td>\n",
       "      <td>Not_Canceled</td>\n",
       "    </tr>\n",
       "    <tr>\n",
       "      <th>1</th>\n",
       "      <td>INN00002</td>\n",
       "      <td>1</td>\n",
       "      <td>0</td>\n",
       "      <td>1</td>\n",
       "      <td>3</td>\n",
       "      <td>Not Selected</td>\n",
       "      <td>0</td>\n",
       "      <td>Room_Type 1</td>\n",
       "      <td>5</td>\n",
       "      <td>Online</td>\n",
       "      <td>0</td>\n",
       "      <td>0</td>\n",
       "      <td>0</td>\n",
       "      <td>106.68</td>\n",
       "      <td>1</td>\n",
       "      <td>11/6/2018</td>\n",
       "      <td>Not_Canceled</td>\n",
       "    </tr>\n",
       "    <tr>\n",
       "      <th>2</th>\n",
       "      <td>INN00003</td>\n",
       "      <td>2</td>\n",
       "      <td>1</td>\n",
       "      <td>1</td>\n",
       "      <td>3</td>\n",
       "      <td>Meal Plan 1</td>\n",
       "      <td>0</td>\n",
       "      <td>Room_Type 1</td>\n",
       "      <td>1</td>\n",
       "      <td>Online</td>\n",
       "      <td>0</td>\n",
       "      <td>0</td>\n",
       "      <td>0</td>\n",
       "      <td>50.00</td>\n",
       "      <td>0</td>\n",
       "      <td>2/28/2018</td>\n",
       "      <td>Canceled</td>\n",
       "    </tr>\n",
       "    <tr>\n",
       "      <th>3</th>\n",
       "      <td>INN00004</td>\n",
       "      <td>1</td>\n",
       "      <td>0</td>\n",
       "      <td>0</td>\n",
       "      <td>2</td>\n",
       "      <td>Meal Plan 1</td>\n",
       "      <td>0</td>\n",
       "      <td>Room_Type 1</td>\n",
       "      <td>211</td>\n",
       "      <td>Online</td>\n",
       "      <td>0</td>\n",
       "      <td>0</td>\n",
       "      <td>0</td>\n",
       "      <td>100.00</td>\n",
       "      <td>1</td>\n",
       "      <td>5/20/2017</td>\n",
       "      <td>Canceled</td>\n",
       "    </tr>\n",
       "    <tr>\n",
       "      <th>4</th>\n",
       "      <td>INN00005</td>\n",
       "      <td>1</td>\n",
       "      <td>0</td>\n",
       "      <td>1</td>\n",
       "      <td>2</td>\n",
       "      <td>Not Selected</td>\n",
       "      <td>0</td>\n",
       "      <td>Room_Type 1</td>\n",
       "      <td>48</td>\n",
       "      <td>Online</td>\n",
       "      <td>0</td>\n",
       "      <td>0</td>\n",
       "      <td>0</td>\n",
       "      <td>77.00</td>\n",
       "      <td>0</td>\n",
       "      <td>4/11/2018</td>\n",
       "      <td>Canceled</td>\n",
       "    </tr>\n",
       "  </tbody>\n",
       "</table>\n",
       "</div>"
      ],
      "text/plain": [
       "  Booking_ID  number of adults  number of children  number of weekend nights  \\\n",
       "0   INN00001                 1                   1                         2   \n",
       "1   INN00002                 1                   0                         1   \n",
       "2   INN00003                 2                   1                         1   \n",
       "3   INN00004                 1                   0                         0   \n",
       "4   INN00005                 1                   0                         1   \n",
       "\n",
       "   number of week nights  type of meal  car parking space    room type  \\\n",
       "0                      5   Meal Plan 1                  0  Room_Type 1   \n",
       "1                      3  Not Selected                  0  Room_Type 1   \n",
       "2                      3   Meal Plan 1                  0  Room_Type 1   \n",
       "3                      2   Meal Plan 1                  0  Room_Type 1   \n",
       "4                      2  Not Selected                  0  Room_Type 1   \n",
       "\n",
       "   lead time market segment type  repeated  P-C  P-not-C  average price  \\\n",
       "0        224             Offline         0    0        0          88.00   \n",
       "1          5              Online         0    0        0         106.68   \n",
       "2          1              Online         0    0        0          50.00   \n",
       "3        211              Online         0    0        0         100.00   \n",
       "4         48              Online         0    0        0          77.00   \n",
       "\n",
       "   special requests date of reservation booking status  \n",
       "0                 0           10/2/2015   Not_Canceled  \n",
       "1                 1           11/6/2018   Not_Canceled  \n",
       "2                 0           2/28/2018       Canceled  \n",
       "3                 1           5/20/2017       Canceled  \n",
       "4                 0           4/11/2018       Canceled  "
      ]
     },
     "execution_count": 4,
     "metadata": {},
     "output_type": "execute_result"
    }
   ],
   "source": [
    "df.head()"
   ]
  },
  {
   "cell_type": "code",
   "execution_count": 8,
   "id": "d36cb751",
   "metadata": {},
   "outputs": [
    {
     "data": {
      "text/plain": [
       "Booking_ID                  0\n",
       "number of adults            0\n",
       "number of children          0\n",
       "number of weekend nights    0\n",
       "number of week nights       0\n",
       "type of meal                0\n",
       "car parking space           0\n",
       "room type                   0\n",
       "lead time                   0\n",
       "market segment type         0\n",
       "repeated                    0\n",
       "P-C                         0\n",
       "P-not-C                     0\n",
       "average price               0\n",
       "special requests            0\n",
       "date of reservation         0\n",
       "booking status              0\n",
       "dtype: int64"
      ]
     },
     "execution_count": 8,
     "metadata": {},
     "output_type": "execute_result"
    }
   ],
   "source": [
    "df.isnull().sum()"
   ]
  },
  {
   "cell_type": "code",
   "execution_count": 9,
   "id": "dcfe76cd",
   "metadata": {},
   "outputs": [
    {
     "name": "stdout",
     "output_type": "stream",
     "text": [
      "<class 'pandas.core.frame.DataFrame'>\n",
      "RangeIndex: 36285 entries, 0 to 36284\n",
      "Data columns (total 17 columns):\n",
      " #   Column                    Non-Null Count  Dtype  \n",
      "---  ------                    --------------  -----  \n",
      " 0   Booking_ID                36285 non-null  object \n",
      " 1   number of adults          36285 non-null  int64  \n",
      " 2   number of children        36285 non-null  int64  \n",
      " 3   number of weekend nights  36285 non-null  int64  \n",
      " 4   number of week nights     36285 non-null  int64  \n",
      " 5   type of meal              36285 non-null  object \n",
      " 6   car parking space         36285 non-null  int64  \n",
      " 7   room type                 36285 non-null  object \n",
      " 8   lead time                 36285 non-null  int64  \n",
      " 9   market segment type       36285 non-null  object \n",
      " 10  repeated                  36285 non-null  int64  \n",
      " 11  P-C                       36285 non-null  int64  \n",
      " 12  P-not-C                   36285 non-null  int64  \n",
      " 13  average price             36285 non-null  float64\n",
      " 14  special requests          36285 non-null  int64  \n",
      " 15  date of reservation       36285 non-null  object \n",
      " 16  booking status            36285 non-null  object \n",
      "dtypes: float64(1), int64(10), object(6)\n",
      "memory usage: 4.7+ MB\n"
     ]
    }
   ],
   "source": [
    "df.info()"
   ]
  },
  {
   "cell_type": "code",
   "execution_count": 10,
   "id": "ee6e26e6",
   "metadata": {},
   "outputs": [
    {
     "data": {
      "text/html": [
       "<div>\n",
       "<style scoped>\n",
       "    .dataframe tbody tr th:only-of-type {\n",
       "        vertical-align: middle;\n",
       "    }\n",
       "\n",
       "    .dataframe tbody tr th {\n",
       "        vertical-align: top;\n",
       "    }\n",
       "\n",
       "    .dataframe thead th {\n",
       "        text-align: right;\n",
       "    }\n",
       "</style>\n",
       "<table border=\"1\" class=\"dataframe\">\n",
       "  <thead>\n",
       "    <tr style=\"text-align: right;\">\n",
       "      <th></th>\n",
       "      <th>number of adults</th>\n",
       "      <th>number of children</th>\n",
       "      <th>number of weekend nights</th>\n",
       "      <th>number of week nights</th>\n",
       "      <th>car parking space</th>\n",
       "      <th>lead time</th>\n",
       "      <th>repeated</th>\n",
       "      <th>P-C</th>\n",
       "      <th>P-not-C</th>\n",
       "      <th>average price</th>\n",
       "      <th>special requests</th>\n",
       "    </tr>\n",
       "  </thead>\n",
       "  <tbody>\n",
       "    <tr>\n",
       "      <th>count</th>\n",
       "      <td>36285.000000</td>\n",
       "      <td>36285.000000</td>\n",
       "      <td>36285.000000</td>\n",
       "      <td>36285.000000</td>\n",
       "      <td>36285.000000</td>\n",
       "      <td>36285.000000</td>\n",
       "      <td>36285.000000</td>\n",
       "      <td>36285.000000</td>\n",
       "      <td>36285.000000</td>\n",
       "      <td>36285.000000</td>\n",
       "      <td>36285.000000</td>\n",
       "    </tr>\n",
       "    <tr>\n",
       "      <th>mean</th>\n",
       "      <td>1.844839</td>\n",
       "      <td>0.105360</td>\n",
       "      <td>0.810693</td>\n",
       "      <td>2.204602</td>\n",
       "      <td>0.030977</td>\n",
       "      <td>85.239851</td>\n",
       "      <td>0.025630</td>\n",
       "      <td>0.023343</td>\n",
       "      <td>0.153369</td>\n",
       "      <td>103.421636</td>\n",
       "      <td>0.619733</td>\n",
       "    </tr>\n",
       "    <tr>\n",
       "      <th>std</th>\n",
       "      <td>0.518813</td>\n",
       "      <td>0.402704</td>\n",
       "      <td>0.870590</td>\n",
       "      <td>1.410946</td>\n",
       "      <td>0.173258</td>\n",
       "      <td>85.938796</td>\n",
       "      <td>0.158032</td>\n",
       "      <td>0.368281</td>\n",
       "      <td>1.753931</td>\n",
       "      <td>35.086469</td>\n",
       "      <td>0.786262</td>\n",
       "    </tr>\n",
       "    <tr>\n",
       "      <th>min</th>\n",
       "      <td>0.000000</td>\n",
       "      <td>0.000000</td>\n",
       "      <td>0.000000</td>\n",
       "      <td>0.000000</td>\n",
       "      <td>0.000000</td>\n",
       "      <td>0.000000</td>\n",
       "      <td>0.000000</td>\n",
       "      <td>0.000000</td>\n",
       "      <td>0.000000</td>\n",
       "      <td>0.000000</td>\n",
       "      <td>0.000000</td>\n",
       "    </tr>\n",
       "    <tr>\n",
       "      <th>25%</th>\n",
       "      <td>2.000000</td>\n",
       "      <td>0.000000</td>\n",
       "      <td>0.000000</td>\n",
       "      <td>1.000000</td>\n",
       "      <td>0.000000</td>\n",
       "      <td>17.000000</td>\n",
       "      <td>0.000000</td>\n",
       "      <td>0.000000</td>\n",
       "      <td>0.000000</td>\n",
       "      <td>80.300000</td>\n",
       "      <td>0.000000</td>\n",
       "    </tr>\n",
       "    <tr>\n",
       "      <th>50%</th>\n",
       "      <td>2.000000</td>\n",
       "      <td>0.000000</td>\n",
       "      <td>1.000000</td>\n",
       "      <td>2.000000</td>\n",
       "      <td>0.000000</td>\n",
       "      <td>57.000000</td>\n",
       "      <td>0.000000</td>\n",
       "      <td>0.000000</td>\n",
       "      <td>0.000000</td>\n",
       "      <td>99.450000</td>\n",
       "      <td>0.000000</td>\n",
       "    </tr>\n",
       "    <tr>\n",
       "      <th>75%</th>\n",
       "      <td>2.000000</td>\n",
       "      <td>0.000000</td>\n",
       "      <td>2.000000</td>\n",
       "      <td>3.000000</td>\n",
       "      <td>0.000000</td>\n",
       "      <td>126.000000</td>\n",
       "      <td>0.000000</td>\n",
       "      <td>0.000000</td>\n",
       "      <td>0.000000</td>\n",
       "      <td>120.000000</td>\n",
       "      <td>1.000000</td>\n",
       "    </tr>\n",
       "    <tr>\n",
       "      <th>max</th>\n",
       "      <td>4.000000</td>\n",
       "      <td>10.000000</td>\n",
       "      <td>7.000000</td>\n",
       "      <td>17.000000</td>\n",
       "      <td>1.000000</td>\n",
       "      <td>443.000000</td>\n",
       "      <td>1.000000</td>\n",
       "      <td>13.000000</td>\n",
       "      <td>58.000000</td>\n",
       "      <td>540.000000</td>\n",
       "      <td>5.000000</td>\n",
       "    </tr>\n",
       "  </tbody>\n",
       "</table>\n",
       "</div>"
      ],
      "text/plain": [
       "       number of adults  number of children  number of weekend nights  \\\n",
       "count      36285.000000        36285.000000              36285.000000   \n",
       "mean           1.844839            0.105360                  0.810693   \n",
       "std            0.518813            0.402704                  0.870590   \n",
       "min            0.000000            0.000000                  0.000000   \n",
       "25%            2.000000            0.000000                  0.000000   \n",
       "50%            2.000000            0.000000                  1.000000   \n",
       "75%            2.000000            0.000000                  2.000000   \n",
       "max            4.000000           10.000000                  7.000000   \n",
       "\n",
       "       number of week nights  car parking space     lead time      repeated  \\\n",
       "count           36285.000000       36285.000000  36285.000000  36285.000000   \n",
       "mean                2.204602           0.030977     85.239851      0.025630   \n",
       "std                 1.410946           0.173258     85.938796      0.158032   \n",
       "min                 0.000000           0.000000      0.000000      0.000000   \n",
       "25%                 1.000000           0.000000     17.000000      0.000000   \n",
       "50%                 2.000000           0.000000     57.000000      0.000000   \n",
       "75%                 3.000000           0.000000    126.000000      0.000000   \n",
       "max                17.000000           1.000000    443.000000      1.000000   \n",
       "\n",
       "                P-C       P-not-C  average price  special requests  \n",
       "count  36285.000000  36285.000000   36285.000000      36285.000000  \n",
       "mean       0.023343      0.153369     103.421636          0.619733  \n",
       "std        0.368281      1.753931      35.086469          0.786262  \n",
       "min        0.000000      0.000000       0.000000          0.000000  \n",
       "25%        0.000000      0.000000      80.300000          0.000000  \n",
       "50%        0.000000      0.000000      99.450000          0.000000  \n",
       "75%        0.000000      0.000000     120.000000          1.000000  \n",
       "max       13.000000     58.000000     540.000000          5.000000  "
      ]
     },
     "execution_count": 10,
     "metadata": {},
     "output_type": "execute_result"
    }
   ],
   "source": [
    "df.describe()"
   ]
  },
  {
   "cell_type": "code",
   "execution_count": 11,
   "id": "3923c9ac",
   "metadata": {},
   "outputs": [
    {
     "data": {
      "text/html": [
       "<div>\n",
       "<style scoped>\n",
       "    .dataframe tbody tr th:only-of-type {\n",
       "        vertical-align: middle;\n",
       "    }\n",
       "\n",
       "    .dataframe tbody tr th {\n",
       "        vertical-align: top;\n",
       "    }\n",
       "\n",
       "    .dataframe thead th {\n",
       "        text-align: right;\n",
       "    }\n",
       "</style>\n",
       "<table border=\"1\" class=\"dataframe\">\n",
       "  <thead>\n",
       "    <tr style=\"text-align: right;\">\n",
       "      <th></th>\n",
       "      <th>number of adults</th>\n",
       "      <th>number of children</th>\n",
       "      <th>number of weekend nights</th>\n",
       "      <th>number of week nights</th>\n",
       "      <th>car parking space</th>\n",
       "      <th>lead time</th>\n",
       "      <th>repeated</th>\n",
       "      <th>P-C</th>\n",
       "      <th>P-not-C</th>\n",
       "      <th>average price</th>\n",
       "      <th>special requests</th>\n",
       "    </tr>\n",
       "  </thead>\n",
       "  <tbody>\n",
       "    <tr>\n",
       "      <th>number of adults</th>\n",
       "      <td>1.000000</td>\n",
       "      <td>-0.020027</td>\n",
       "      <td>0.103316</td>\n",
       "      <td>0.105416</td>\n",
       "      <td>0.011467</td>\n",
       "      <td>0.097014</td>\n",
       "      <td>-0.192175</td>\n",
       "      <td>-0.047395</td>\n",
       "      <td>-0.119106</td>\n",
       "      <td>0.296832</td>\n",
       "      <td>0.189317</td>\n",
       "    </tr>\n",
       "    <tr>\n",
       "      <th>number of children</th>\n",
       "      <td>-0.020027</td>\n",
       "      <td>1.000000</td>\n",
       "      <td>0.029536</td>\n",
       "      <td>0.024680</td>\n",
       "      <td>0.034198</td>\n",
       "      <td>-0.047058</td>\n",
       "      <td>-0.036371</td>\n",
       "      <td>-0.016398</td>\n",
       "      <td>-0.021201</td>\n",
       "      <td>0.337491</td>\n",
       "      <td>0.124363</td>\n",
       "    </tr>\n",
       "    <tr>\n",
       "      <th>number of weekend nights</th>\n",
       "      <td>0.103316</td>\n",
       "      <td>0.029536</td>\n",
       "      <td>1.000000</td>\n",
       "      <td>0.179548</td>\n",
       "      <td>-0.031102</td>\n",
       "      <td>0.046510</td>\n",
       "      <td>-0.067096</td>\n",
       "      <td>-0.020687</td>\n",
       "      <td>-0.026307</td>\n",
       "      <td>-0.004565</td>\n",
       "      <td>0.060432</td>\n",
       "    </tr>\n",
       "    <tr>\n",
       "      <th>number of week nights</th>\n",
       "      <td>0.105416</td>\n",
       "      <td>0.024680</td>\n",
       "      <td>0.179548</td>\n",
       "      <td>1.000000</td>\n",
       "      <td>-0.048814</td>\n",
       "      <td>0.149600</td>\n",
       "      <td>-0.099782</td>\n",
       "      <td>-0.030089</td>\n",
       "      <td>-0.049354</td>\n",
       "      <td>0.022751</td>\n",
       "      <td>0.046136</td>\n",
       "    </tr>\n",
       "    <tr>\n",
       "      <th>car parking space</th>\n",
       "      <td>0.011467</td>\n",
       "      <td>0.034198</td>\n",
       "      <td>-0.031102</td>\n",
       "      <td>-0.048814</td>\n",
       "      <td>1.000000</td>\n",
       "      <td>-0.066444</td>\n",
       "      <td>0.110916</td>\n",
       "      <td>0.027109</td>\n",
       "      <td>0.063814</td>\n",
       "      <td>0.061310</td>\n",
       "      <td>0.087889</td>\n",
       "    </tr>\n",
       "    <tr>\n",
       "      <th>lead time</th>\n",
       "      <td>0.097014</td>\n",
       "      <td>-0.047058</td>\n",
       "      <td>0.046510</td>\n",
       "      <td>0.149600</td>\n",
       "      <td>-0.066444</td>\n",
       "      <td>1.000000</td>\n",
       "      <td>-0.135966</td>\n",
       "      <td>-0.045718</td>\n",
       "      <td>-0.078126</td>\n",
       "      <td>-0.062578</td>\n",
       "      <td>-0.101604</td>\n",
       "    </tr>\n",
       "    <tr>\n",
       "      <th>repeated</th>\n",
       "      <td>-0.192175</td>\n",
       "      <td>-0.036371</td>\n",
       "      <td>-0.067096</td>\n",
       "      <td>-0.099782</td>\n",
       "      <td>0.110916</td>\n",
       "      <td>-0.135966</td>\n",
       "      <td>1.000000</td>\n",
       "      <td>0.390811</td>\n",
       "      <td>0.539157</td>\n",
       "      <td>-0.174881</td>\n",
       "      <td>-0.011834</td>\n",
       "    </tr>\n",
       "    <tr>\n",
       "      <th>P-C</th>\n",
       "      <td>-0.047395</td>\n",
       "      <td>-0.016398</td>\n",
       "      <td>-0.020687</td>\n",
       "      <td>-0.030089</td>\n",
       "      <td>0.027109</td>\n",
       "      <td>-0.045718</td>\n",
       "      <td>0.390811</td>\n",
       "      <td>1.000000</td>\n",
       "      <td>0.468148</td>\n",
       "      <td>-0.063334</td>\n",
       "      <td>-0.003323</td>\n",
       "    </tr>\n",
       "    <tr>\n",
       "      <th>P-not-C</th>\n",
       "      <td>-0.119106</td>\n",
       "      <td>-0.021201</td>\n",
       "      <td>-0.026307</td>\n",
       "      <td>-0.049354</td>\n",
       "      <td>0.063814</td>\n",
       "      <td>-0.078126</td>\n",
       "      <td>0.539157</td>\n",
       "      <td>0.468148</td>\n",
       "      <td>1.000000</td>\n",
       "      <td>-0.113673</td>\n",
       "      <td>0.027363</td>\n",
       "    </tr>\n",
       "    <tr>\n",
       "      <th>average price</th>\n",
       "      <td>0.296832</td>\n",
       "      <td>0.337491</td>\n",
       "      <td>-0.004565</td>\n",
       "      <td>0.022751</td>\n",
       "      <td>0.061310</td>\n",
       "      <td>-0.062578</td>\n",
       "      <td>-0.174881</td>\n",
       "      <td>-0.063334</td>\n",
       "      <td>-0.113673</td>\n",
       "      <td>1.000000</td>\n",
       "      <td>0.184468</td>\n",
       "    </tr>\n",
       "    <tr>\n",
       "      <th>special requests</th>\n",
       "      <td>0.189317</td>\n",
       "      <td>0.124363</td>\n",
       "      <td>0.060432</td>\n",
       "      <td>0.046136</td>\n",
       "      <td>0.087889</td>\n",
       "      <td>-0.101604</td>\n",
       "      <td>-0.011834</td>\n",
       "      <td>-0.003323</td>\n",
       "      <td>0.027363</td>\n",
       "      <td>0.184468</td>\n",
       "      <td>1.000000</td>\n",
       "    </tr>\n",
       "  </tbody>\n",
       "</table>\n",
       "</div>"
      ],
      "text/plain": [
       "                          number of adults  number of children  \\\n",
       "number of adults                  1.000000           -0.020027   \n",
       "number of children               -0.020027            1.000000   \n",
       "number of weekend nights          0.103316            0.029536   \n",
       "number of week nights             0.105416            0.024680   \n",
       "car parking space                 0.011467            0.034198   \n",
       "lead time                         0.097014           -0.047058   \n",
       "repeated                         -0.192175           -0.036371   \n",
       "P-C                              -0.047395           -0.016398   \n",
       "P-not-C                          -0.119106           -0.021201   \n",
       "average price                     0.296832            0.337491   \n",
       "special requests                  0.189317            0.124363   \n",
       "\n",
       "                          number of weekend nights  number of week nights  \\\n",
       "number of adults                          0.103316               0.105416   \n",
       "number of children                        0.029536               0.024680   \n",
       "number of weekend nights                  1.000000               0.179548   \n",
       "number of week nights                     0.179548               1.000000   \n",
       "car parking space                        -0.031102              -0.048814   \n",
       "lead time                                 0.046510               0.149600   \n",
       "repeated                                 -0.067096              -0.099782   \n",
       "P-C                                      -0.020687              -0.030089   \n",
       "P-not-C                                  -0.026307              -0.049354   \n",
       "average price                            -0.004565               0.022751   \n",
       "special requests                          0.060432               0.046136   \n",
       "\n",
       "                          car parking space  lead time  repeated       P-C  \\\n",
       "number of adults                   0.011467   0.097014 -0.192175 -0.047395   \n",
       "number of children                 0.034198  -0.047058 -0.036371 -0.016398   \n",
       "number of weekend nights          -0.031102   0.046510 -0.067096 -0.020687   \n",
       "number of week nights             -0.048814   0.149600 -0.099782 -0.030089   \n",
       "car parking space                  1.000000  -0.066444  0.110916  0.027109   \n",
       "lead time                         -0.066444   1.000000 -0.135966 -0.045718   \n",
       "repeated                           0.110916  -0.135966  1.000000  0.390811   \n",
       "P-C                                0.027109  -0.045718  0.390811  1.000000   \n",
       "P-not-C                            0.063814  -0.078126  0.539157  0.468148   \n",
       "average price                      0.061310  -0.062578 -0.174881 -0.063334   \n",
       "special requests                   0.087889  -0.101604 -0.011834 -0.003323   \n",
       "\n",
       "                           P-not-C  average price  special requests  \n",
       "number of adults         -0.119106       0.296832          0.189317  \n",
       "number of children       -0.021201       0.337491          0.124363  \n",
       "number of weekend nights -0.026307      -0.004565          0.060432  \n",
       "number of week nights    -0.049354       0.022751          0.046136  \n",
       "car parking space         0.063814       0.061310          0.087889  \n",
       "lead time                -0.078126      -0.062578         -0.101604  \n",
       "repeated                  0.539157      -0.174881         -0.011834  \n",
       "P-C                       0.468148      -0.063334         -0.003323  \n",
       "P-not-C                   1.000000      -0.113673          0.027363  \n",
       "average price            -0.113673       1.000000          0.184468  \n",
       "special requests          0.027363       0.184468          1.000000  "
      ]
     },
     "execution_count": 11,
     "metadata": {},
     "output_type": "execute_result"
    }
   ],
   "source": [
    "df.corr()"
   ]
  },
  {
   "cell_type": "code",
   "execution_count": 30,
   "id": "2052336a",
   "metadata": {},
   "outputs": [
    {
     "data": {
      "image/png": "[encoded data removed]",
      "text/plain": [
       "<Figure size 864x576 with 1 Axes>"
      ]
     },
     "metadata": {
      "needs_background": "light"
     },
     "output_type": "display_data"
    }
   ],
   "source": [
    "plt.figure(figsize=(12, 8))\n",
    "sns.boxplot(data=df,orient='h')\n",
    "plt.title('Box Plot for every variable')\n",
    "plt.show()"
   ]
  },
  {
   "cell_type": "code",
   "execution_count": 20,
   "id": "a9eaef78",
   "metadata": {},
   "outputs": [],
   "source": [
    "df.drop([\"Booking_ID\"], axis=1, inplace=True)"
   ]
  },
  {
   "cell_type": "code",
   "execution_count": 21,
   "id": "a0d21b79",
   "metadata": {},
   "outputs": [
    {
     "data": {
      "text/html": [
       "<div>\n",
       "<style scoped>\n",
       "    .dataframe tbody tr th:only-of-type {\n",
       "        vertical-align: middle;\n",
       "    }\n",
       "\n",
       "    .dataframe tbody tr th {\n",
       "        vertical-align: top;\n",
       "    }\n",
       "\n",
       "    .dataframe thead th {\n",
       "        text-align: right;\n",
       "    }\n",
       "</style>\n",
       "<table border=\"1\" class=\"dataframe\">\n",
       "  <thead>\n",
       "    <tr style=\"text-align: right;\">\n",
       "      <th></th>\n",
       "      <th>number of adults</th>\n",
       "      <th>number of children</th>\n",
       "      <th>number of weekend nights</th>\n",
       "      <th>number of week nights</th>\n",
       "      <th>type of meal</th>\n",
       "      <th>car parking space</th>\n",
       "      <th>room type</th>\n",
       "      <th>lead time</th>\n",
       "      <th>market segment type</th>\n",
       "      <th>repeated</th>\n",
       "      <th>P-C</th>\n",
       "      <th>P-not-C</th>\n",
       "      <th>average price</th>\n",
       "      <th>special requests</th>\n",
       "      <th>date of reservation</th>\n",
       "      <th>booking status</th>\n",
       "    </tr>\n",
       "  </thead>\n",
       "  <tbody>\n",
       "    <tr>\n",
       "      <th>0</th>\n",
       "      <td>1</td>\n",
       "      <td>1</td>\n",
       "      <td>2</td>\n",
       "      <td>5</td>\n",
       "      <td>Meal Plan 1</td>\n",
       "      <td>0</td>\n",
       "      <td>Room_Type 1</td>\n",
       "      <td>224</td>\n",
       "      <td>Offline</td>\n",
       "      <td>0</td>\n",
       "      <td>0</td>\n",
       "      <td>0</td>\n",
       "      <td>88.00</td>\n",
       "      <td>0</td>\n",
       "      <td>10/2/2015</td>\n",
       "      <td>Not_Canceled</td>\n",
       "    </tr>\n",
       "    <tr>\n",
       "      <th>1</th>\n",
       "      <td>1</td>\n",
       "      <td>0</td>\n",
       "      <td>1</td>\n",
       "      <td>3</td>\n",
       "      <td>Not Selected</td>\n",
       "      <td>0</td>\n",
       "      <td>Room_Type 1</td>\n",
       "      <td>5</td>\n",
       "      <td>Online</td>\n",
       "      <td>0</td>\n",
       "      <td>0</td>\n",
       "      <td>0</td>\n",
       "      <td>106.68</td>\n",
       "      <td>1</td>\n",
       "      <td>11/6/2018</td>\n",
       "      <td>Not_Canceled</td>\n",
       "    </tr>\n",
       "    <tr>\n",
       "      <th>2</th>\n",
       "      <td>2</td>\n",
       "      <td>1</td>\n",
       "      <td>1</td>\n",
       "      <td>3</td>\n",
       "      <td>Meal Plan 1</td>\n",
       "      <td>0</td>\n",
       "      <td>Room_Type 1</td>\n",
       "      <td>1</td>\n",
       "      <td>Online</td>\n",
       "      <td>0</td>\n",
       "      <td>0</td>\n",
       "      <td>0</td>\n",
       "      <td>50.00</td>\n",
       "      <td>0</td>\n",
       "      <td>2/28/2018</td>\n",
       "      <td>Canceled</td>\n",
       "    </tr>\n",
       "    <tr>\n",
       "      <th>3</th>\n",
       "      <td>1</td>\n",
       "      <td>0</td>\n",
       "      <td>0</td>\n",
       "      <td>2</td>\n",
       "      <td>Meal Plan 1</td>\n",
       "      <td>0</td>\n",
       "      <td>Room_Type 1</td>\n",
       "      <td>211</td>\n",
       "      <td>Online</td>\n",
       "      <td>0</td>\n",
       "      <td>0</td>\n",
       "      <td>0</td>\n",
       "      <td>100.00</td>\n",
       "      <td>1</td>\n",
       "      <td>5/20/2017</td>\n",
       "      <td>Canceled</td>\n",
       "    </tr>\n",
       "    <tr>\n",
       "      <th>4</th>\n",
       "      <td>1</td>\n",
       "      <td>0</td>\n",
       "      <td>1</td>\n",
       "      <td>2</td>\n",
       "      <td>Not Selected</td>\n",
       "      <td>0</td>\n",
       "      <td>Room_Type 1</td>\n",
       "      <td>48</td>\n",
       "      <td>Online</td>\n",
       "      <td>0</td>\n",
       "      <td>0</td>\n",
       "      <td>0</td>\n",
       "      <td>77.00</td>\n",
       "      <td>0</td>\n",
       "      <td>4/11/2018</td>\n",
       "      <td>Canceled</td>\n",
       "    </tr>\n",
       "  </tbody>\n",
       "</table>\n",
       "</div>"
      ],
      "text/plain": [
       "   number of adults  number of children  number of weekend nights  \\\n",
       "0                 1                   1                         2   \n",
       "1                 1                   0                         1   \n",
       "2                 2                   1                         1   \n",
       "3                 1                   0                         0   \n",
       "4                 1                   0                         1   \n",
       "\n",
       "   number of week nights  type of meal  car parking space    room type  \\\n",
       "0                      5   Meal Plan 1                  0  Room_Type 1   \n",
       "1                      3  Not Selected                  0  Room_Type 1   \n",
       "2                      3   Meal Plan 1                  0  Room_Type 1   \n",
       "3                      2   Meal Plan 1                  0  Room_Type 1   \n",
       "4                      2  Not Selected                  0  Room_Type 1   \n",
       "\n",
       "   lead time market segment type  repeated  P-C  P-not-C  average price  \\\n",
       "0        224             Offline         0    0        0          88.00   \n",
       "1          5              Online         0    0        0         106.68   \n",
       "2          1              Online         0    0        0          50.00   \n",
       "3        211              Online         0    0        0         100.00   \n",
       "4         48              Online         0    0        0          77.00   \n",
       "\n",
       "   special requests date of reservation booking status  \n",
       "0                 0           10/2/2015   Not_Canceled  \n",
       "1                 1           11/6/2018   Not_Canceled  \n",
       "2                 0           2/28/2018       Canceled  \n",
       "3                 1           5/20/2017       Canceled  \n",
       "4                 0           4/11/2018       Canceled  "
      ]
     },
     "execution_count": 21,
     "metadata": {},
     "output_type": "execute_result"
    }
   ],
   "source": [
    "df.head()"
   ]
  },
  {
   "cell_type": "code",
   "execution_count": 28,
   "id": "62219b59",
   "metadata": {},
   "outputs": [
    {
     "data": {
      "text/plain": [
       "number of adults               5\n",
       "number of children             6\n",
       "number of weekend nights       8\n",
       "number of week nights         18\n",
       "type of meal                   4\n",
       "car parking space              2\n",
       "room type                      7\n",
       "lead time                    352\n",
       "market segment type            5\n",
       "repeated                       2\n",
       "P-C                            9\n",
       "P-not-C                       59\n",
       "average price               3930\n",
       "special requests               6\n",
       "date of reservation          553\n",
       "booking status                 2\n",
       "dtype: int64"
      ]
     },
     "execution_count": 28,
     "metadata": {},
     "output_type": "execute_result"
    }
   ],
   "source": [
    "df.nunique()"
   ]
  },
  {
   "cell_type": "code",
   "execution_count": 29,
   "id": "4ee987be",
   "metadata": {},
   "outputs": [
    {
     "data": {
      "text/plain": [
       "array([ 0,  3,  1,  2, 11,  4,  5, 13,  6], dtype=int64)"
      ]
     },
     "execution_count": 29,
     "metadata": {},
     "output_type": "execute_result"
    }
   ],
   "source": [
    "df['P-C'].unique()"
   ]
  },
  {
   "cell_type": "code",
   "execution_count": 39,
   "id": "a57d5f94",
   "metadata": {},
   "outputs": [],
   "source": [
    "outliers_cols = [\"lead time\", \"average price\"]\n",
    "for column in outliers_cols:\n",
    "        q1 = df[column].quantile(0.25)\n",
    "        q3 = df[column].quantile(0.75)\n",
    "        iqr = q3 - q1\n",
    "        lower_bound = q1 - 1.5 * iqr\n",
    "        upper_bound = q3 + 1.5 * iqr\n",
    "        df = df[\n",
    "            (df[column] >= lower_bound) & (df[column] <= upper_bound)\n",
    "        ]"
   ]
  },
  {
   "cell_type": "code",
   "execution_count": 69,
   "id": "9738097b",
   "metadata": {},
   "outputs": [
    {
     "data": {
      "image/png": "[encoded data removed]",
      "text/plain": [
       "<Figure size 864x576 with 1 Axes>"
      ]
     },
     "metadata": {
      "needs_background": "light"
     },
     "output_type": "display_data"
    }
   ],
   "source": [
    "plt.figure(figsize=(12, 8))\n",
    "sns.boxplot(data=df,orient='h')\n",
    "plt.title('Box Plot for every variable')\n",
    "plt.show()"
   ]
  },
  {
   "cell_type": "code",
   "execution_count": 41,
   "id": "4d477077",
   "metadata": {},
   "outputs": [
    {
     "name": "stderr",
     "output_type": "stream",
     "text": [
      "C:\\ProgramData\\Anaconda3\\lib\\site-packages\\seaborn\\_decorators.py:36: FutureWarning: Pass the following variable as a keyword arg: x. From version 0.12, the only valid positional argument will be `data`, and passing other arguments without an explicit keyword will result in an error or misinterpretation.\n",
      "  warnings.warn(\n"
     ]
    },
    {
     "data": {
      "text/plain": [
       "<AxesSubplot:xlabel='special requests'>"
      ]
     },
     "execution_count": 41,
     "metadata": {},
     "output_type": "execute_result"
    },
    {
     "data": {
      "image/png": "[encoded data removed]",
      "text/plain": [
       "<Figure size 432x288 with 1 Axes>"
      ]
     },
     "metadata": {
      "needs_background": "light"
     },
     "output_type": "display_data"
    }
   ],
   "source": [
    "sns.boxplot(df[\"special requests\"])"
   ]
  },
  {
   "cell_type": "code",
   "execution_count": 43,
   "id": "739f04c0",
   "metadata": {},
   "outputs": [
    {
     "name": "stderr",
     "output_type": "stream",
     "text": [
      "C:\\ProgramData\\Anaconda3\\lib\\site-packages\\seaborn\\_decorators.py:36: FutureWarning: Pass the following variable as a keyword arg: x. From version 0.12, the only valid positional argument will be `data`, and passing other arguments without an explicit keyword will result in an error or misinterpretation.\n",
      "  warnings.warn(\n"
     ]
    },
    {
     "data": {
      "text/plain": [
       "<AxesSubplot:xlabel='lead time'>"
      ]
     },
     "execution_count": 43,
     "metadata": {},
     "output_type": "execute_result"
    },
    {
     "data": {
      "image/png": "[encoded data removed]",
      "text/plain": [
       "<Figure size 432x288 with 1 Axes>"
      ]
     },
     "metadata": {
      "needs_background": "light"
     },
     "output_type": "display_data"
    }
   ],
   "source": [
    "sns.boxplot(df[\"lead time\"])"
   ]
  },
  {
   "cell_type": "code",
   "execution_count": 44,
   "id": "2f3e545a",
   "metadata": {},
   "outputs": [
    {
     "name": "stderr",
     "output_type": "stream",
     "text": [
      "C:\\ProgramData\\Anaconda3\\lib\\site-packages\\seaborn\\_decorators.py:36: FutureWarning: Pass the following variable as a keyword arg: x. From version 0.12, the only valid positional argument will be `data`, and passing other arguments without an explicit keyword will result in an error or misinterpretation.\n",
      "  warnings.warn(\n"
     ]
    },
    {
     "data": {
      "text/plain": [
       "<AxesSubplot:xlabel='average price'>"
      ]
     },
     "execution_count": 44,
     "metadata": {},
     "output_type": "execute_result"
    },
    {
     "data": {
      "image/png": "[encoded data removed]",
      "text/plain": [
       "<Figure size 432x288 with 1 Axes>"
      ]
     },
     "metadata": {
      "needs_background": "light"
     },
     "output_type": "display_data"
    }
   ],
   "source": [
    "sns.boxplot(df[\"average price\"])"
   ]
  },
  {
   "cell_type": "code",
   "execution_count": 45,
   "id": "e99a1c54",
   "metadata": {},
   "outputs": [],
   "source": [
    "from sklearn.preprocessing import LabelEncoder"
   ]
  },
  {
   "cell_type": "code",
   "execution_count": 46,
   "id": "92da3569",
   "metadata": {},
   "outputs": [],
   "source": [
    "lb = LabelEncoder()"
   ]
  },
  {
   "cell_type": "code",
   "execution_count": 47,
   "id": "2dbdd46a",
   "metadata": {},
   "outputs": [],
   "source": [
    "df1 = df.copy()"
   ]
  },
  {
   "cell_type": "code",
   "execution_count": 48,
   "id": "f2d04cc2",
   "metadata": {},
   "outputs": [],
   "source": [
    "df1['type of meal'] = lb.fit_transform(df1['type of meal'])"
   ]
  },
  {
   "cell_type": "code",
   "execution_count": 49,
   "id": "9e218c75",
   "metadata": {},
   "outputs": [],
   "source": [
    "df1['room type'] = lb.fit_transform(df1['room type'])"
   ]
  },
  {
   "cell_type": "code",
   "execution_count": 51,
   "id": "c44d6182",
   "metadata": {},
   "outputs": [],
   "source": [
    "df1['market segment type'] = lb.fit_transform(df1['market segment type'])"
   ]
  },
  {
   "cell_type": "code",
   "execution_count": 52,
   "id": "b65523a0",
   "metadata": {},
   "outputs": [],
   "source": [
    "df1['date of reservation'] = lb.fit_transform(df1['date of reservation'])"
   ]
  },
  {
   "cell_type": "code",
   "execution_count": 53,
   "id": "9935e49b",
   "metadata": {},
   "outputs": [],
   "source": [
    "df1['booking status'] = lb.fit_transform(df1['booking status'])"
   ]
  },
  {
   "cell_type": "code",
   "execution_count": 54,
   "id": "8a7ab4e5",
   "metadata": {},
   "outputs": [
    {
     "data": {
      "text/html": [
       "<div>\n",
       "<style scoped>\n",
       "    .dataframe tbody tr th:only-of-type {\n",
       "        vertical-align: middle;\n",
       "    }\n",
       "\n",
       "    .dataframe tbody tr th {\n",
       "        vertical-align: top;\n",
       "    }\n",
       "\n",
       "    .dataframe thead th {\n",
       "        text-align: right;\n",
       "    }\n",
       "</style>\n",
       "<table border=\"1\" class=\"dataframe\">\n",
       "  <thead>\n",
       "    <tr style=\"text-align: right;\">\n",
       "      <th></th>\n",
       "      <th>number of adults</th>\n",
       "      <th>number of children</th>\n",
       "      <th>number of weekend nights</th>\n",
       "      <th>number of week nights</th>\n",
       "      <th>type of meal</th>\n",
       "      <th>car parking space</th>\n",
       "      <th>room type</th>\n",
       "      <th>lead time</th>\n",
       "      <th>market segment type</th>\n",
       "      <th>repeated</th>\n",
       "      <th>P-C</th>\n",
       "      <th>P-not-C</th>\n",
       "      <th>average price</th>\n",
       "      <th>special requests</th>\n",
       "      <th>date of reservation</th>\n",
       "      <th>booking status</th>\n",
       "    </tr>\n",
       "  </thead>\n",
       "  <tbody>\n",
       "    <tr>\n",
       "      <th>0</th>\n",
       "      <td>1</td>\n",
       "      <td>1</td>\n",
       "      <td>2</td>\n",
       "      <td>5</td>\n",
       "      <td>0</td>\n",
       "      <td>0</td>\n",
       "      <td>0</td>\n",
       "      <td>224</td>\n",
       "      <td>3</td>\n",
       "      <td>0</td>\n",
       "      <td>0</td>\n",
       "      <td>0</td>\n",
       "      <td>88.00</td>\n",
       "      <td>0</td>\n",
       "      <td>53</td>\n",
       "      <td>1</td>\n",
       "    </tr>\n",
       "    <tr>\n",
       "      <th>1</th>\n",
       "      <td>1</td>\n",
       "      <td>0</td>\n",
       "      <td>1</td>\n",
       "      <td>3</td>\n",
       "      <td>2</td>\n",
       "      <td>0</td>\n",
       "      <td>0</td>\n",
       "      <td>5</td>\n",
       "      <td>4</td>\n",
       "      <td>0</td>\n",
       "      <td>0</td>\n",
       "      <td>0</td>\n",
       "      <td>106.68</td>\n",
       "      <td>1</td>\n",
       "      <td>147</td>\n",
       "      <td>1</td>\n",
       "    </tr>\n",
       "    <tr>\n",
       "      <th>2</th>\n",
       "      <td>2</td>\n",
       "      <td>1</td>\n",
       "      <td>1</td>\n",
       "      <td>3</td>\n",
       "      <td>0</td>\n",
       "      <td>0</td>\n",
       "      <td>0</td>\n",
       "      <td>1</td>\n",
       "      <td>4</td>\n",
       "      <td>0</td>\n",
       "      <td>0</td>\n",
       "      <td>0</td>\n",
       "      <td>50.00</td>\n",
       "      <td>0</td>\n",
       "      <td>236</td>\n",
       "      <td>0</td>\n",
       "    </tr>\n",
       "    <tr>\n",
       "      <th>3</th>\n",
       "      <td>1</td>\n",
       "      <td>0</td>\n",
       "      <td>0</td>\n",
       "      <td>2</td>\n",
       "      <td>0</td>\n",
       "      <td>0</td>\n",
       "      <td>0</td>\n",
       "      <td>211</td>\n",
       "      <td>4</td>\n",
       "      <td>0</td>\n",
       "      <td>0</td>\n",
       "      <td>0</td>\n",
       "      <td>100.00</td>\n",
       "      <td>1</td>\n",
       "      <td>318</td>\n",
       "      <td>0</td>\n",
       "    </tr>\n",
       "    <tr>\n",
       "      <th>4</th>\n",
       "      <td>1</td>\n",
       "      <td>0</td>\n",
       "      <td>1</td>\n",
       "      <td>2</td>\n",
       "      <td>2</td>\n",
       "      <td>0</td>\n",
       "      <td>0</td>\n",
       "      <td>48</td>\n",
       "      <td>4</td>\n",
       "      <td>0</td>\n",
       "      <td>0</td>\n",
       "      <td>0</td>\n",
       "      <td>77.00</td>\n",
       "      <td>0</td>\n",
       "      <td>278</td>\n",
       "      <td>0</td>\n",
       "    </tr>\n",
       "  </tbody>\n",
       "</table>\n",
       "</div>"
      ],
      "text/plain": [
       "   number of adults  number of children  number of weekend nights  \\\n",
       "0                 1                   1                         2   \n",
       "1                 1                   0                         1   \n",
       "2                 2                   1                         1   \n",
       "3                 1                   0                         0   \n",
       "4                 1                   0                         1   \n",
       "\n",
       "   number of week nights  type of meal  car parking space  room type  \\\n",
       "0                      5             0                  0          0   \n",
       "1                      3             2                  0          0   \n",
       "2                      3             0                  0          0   \n",
       "3                      2             0                  0          0   \n",
       "4                      2             2                  0          0   \n",
       "\n",
       "   lead time  market segment type  repeated  P-C  P-not-C  average price  \\\n",
       "0        224                    3         0    0        0          88.00   \n",
       "1          5                    4         0    0        0         106.68   \n",
       "2          1                    4         0    0        0          50.00   \n",
       "3        211                    4         0    0        0         100.00   \n",
       "4         48                    4         0    0        0          77.00   \n",
       "\n",
       "   special requests  date of reservation  booking status  \n",
       "0                 0                   53               1  \n",
       "1                 1                  147               1  \n",
       "2                 0                  236               0  \n",
       "3                 1                  318               0  \n",
       "4                 0                  278               0  "
      ]
     },
     "execution_count": 54,
     "metadata": {},
     "output_type": "execute_result"
    }
   ],
   "source": [
    "df1.head()"
   ]
  },
  {
   "cell_type": "code",
   "execution_count": 55,
   "id": "a2eefadd",
   "metadata": {},
   "outputs": [],
   "source": [
    "from sklearn.svm import SVC\n",
    "from sklearn.model_selection import train_test_split\n",
    "from sklearn.metrics import accuracy_score,confusion_matrix,classification_report"
   ]
  },
  {
   "cell_type": "code",
   "execution_count": 57,
   "id": "5cdbb7e3",
   "metadata": {},
   "outputs": [],
   "source": [
    "feature_col = ['number of adults','number of children','number of weekend nights','number of week nights','type of meal','car parking space','room type','lead time','market segment type','repeated','P-C','P-not-C','average price','special requests','date of reservation']\n",
    "X = df1[feature_col]\n",
    "y = df1['booking status']            "
   ]
  },
  {
   "cell_type": "code",
   "execution_count": 58,
   "id": "8217bdad",
   "metadata": {},
   "outputs": [],
   "source": [
    "X_train, X_test, y_train, y_test = train_test_split(X, y, test_size=0.2, random_state=42)"
   ]
  },
  {
   "cell_type": "code",
   "execution_count": 93,
   "id": "1c8abbfd",
   "metadata": {},
   "outputs": [],
   "source": [
    "from sklearn.preprocessing import StandardScaler\n",
    "scaler = StandardScaler()\n",
    "X_train = scaler.fit_transform(X_train)\n",
    "X_test = scaler.transform(X_test)"
   ]
  },
  {
   "cell_type": "code",
   "execution_count": 104,
   "id": "8e806a80",
   "metadata": {},
   "outputs": [],
   "source": [
    "support = SVC()"
   ]
  },
  {
   "cell_type": "code",
   "execution_count": 105,
   "id": "7004c8fb",
   "metadata": {},
   "outputs": [],
   "source": [
    "model = support.fit(X_train,y_train)"
   ]
  },
  {
   "cell_type": "code",
   "execution_count": 106,
   "id": "53db7f18",
   "metadata": {},
   "outputs": [],
   "source": [
    "y_pred = model.predict(X_test)"
   ]
  },
  {
   "cell_type": "code",
   "execution_count": 107,
   "id": "a28aea40",
   "metadata": {},
   "outputs": [
    {
     "name": "stdout",
     "output_type": "stream",
     "text": [
      "Model Accuracy: 0.8373\n"
     ]
    }
   ],
   "source": [
    "accuracy = accuracy_score(y_test, y_pred)\n",
    "print(f\"Model Accuracy: {accuracy:.4f}\")"
   ]
  },
  {
   "cell_type": "code",
   "execution_count": 108,
   "id": "134d17da",
   "metadata": {},
   "outputs": [
    {
     "data": {
      "text/plain": [
       "array([[1181,  713],\n",
       "       [ 330, 4186]], dtype=int64)"
      ]
     },
     "execution_count": 108,
     "metadata": {},
     "output_type": "execute_result"
    }
   ],
   "source": [
    "confusion_matrix(y_test,y_pred)"
   ]
  },
  {
   "cell_type": "code",
   "execution_count": 109,
   "id": "ac002293",
   "metadata": {},
   "outputs": [
    {
     "name": "stdout",
     "output_type": "stream",
     "text": [
      "              precision    recall  f1-score   support\n",
      "\n",
      "           0       0.78      0.62      0.69      1894\n",
      "           1       0.85      0.93      0.89      4516\n",
      "\n",
      "    accuracy                           0.84      6410\n",
      "   macro avg       0.82      0.78      0.79      6410\n",
      "weighted avg       0.83      0.84      0.83      6410\n",
      "\n"
     ]
    }
   ],
   "source": [
    "report = classification_report(y_test,y_pred)\n",
    "print(report)"
   ]
  },
  {
   "cell_type": "code",
   "execution_count": 110,
   "id": "65da2b40",
   "metadata": {},
   "outputs": [],
   "source": [
    "sample_input = {\n",
    "    'number of adults': 2,\n",
    "    'number of children': 1,\n",
    "    'number of weekend nights': 2,\n",
    "    'number of week nights': 3,\n",
    "    'type of meal': 1,  \n",
    "    'car parking space': 1,\n",
    "    'room type': 2,  \n",
    "    'lead time': 45,\n",
    "    'market segment type': 1, \n",
    "    'repeated': 0,\n",
    "    'P-C': 1,\n",
    "    'P-not-C': 0,\n",
    "    'average price': 120.5,\n",
    "    'special requests': 2,\n",
    "    'date of reservation': 150  \n",
    "}"
   ]
  },
  {
   "cell_type": "code",
   "execution_count": 111,
   "id": "bb3bc493",
   "metadata": {},
   "outputs": [],
   "source": [
    "sample_df = pd.DataFrame([sample_input])\n",
    "sample_df_scaled = scaler.transform(sample_df)"
   ]
  },
  {
   "cell_type": "code",
   "execution_count": 112,
   "id": "ad8177b5",
   "metadata": {},
   "outputs": [],
   "source": [
    "prediction = support.predict(sample_df_scaled)"
   ]
  },
  {
   "cell_type": "code",
   "execution_count": 113,
   "id": "ad81cccc",
   "metadata": {},
   "outputs": [],
   "source": [
    "predicted_label = lb.inverse_transform(prediction)"
   ]
  },
  {
   "cell_type": "code",
   "execution_count": 92,
   "id": "56a8a7bc",
   "metadata": {},
   "outputs": [
    {
     "name": "stdout",
     "output_type": "stream",
     "text": [
      "Predicted booking status: Not_Canceled\n"
     ]
    }
   ],
   "source": [
    "print(f\"Predicted booking status: {predicted_label[0]}\")"
   ]
  }
 ],
 "metadata": {
  "kernelspec": {
   "display_name": "Python 3 (ipykernel)",
   "language": "python",
   "name": "python3"
  },
  "language_info": {
   "codemirror_mode": {
    "name": "ipython",
    "version": 3
   },
   "file_extension": ".py",
   "mimetype": "text/x-python",
   "name": "python",
   "nbconvert_exporter": "python",
   "pygments_lexer": "ipython3",
   "version": "3.12.5"
  }
 },
 "nbformat": 4,
 "nbformat_minor": 5
}
