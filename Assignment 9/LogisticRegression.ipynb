{
 "cells": [
  {
   "cell_type": "code",
   "execution_count": 1,
   "id": "b6cd101a-e6b3-4547-8fe0-0c1fe08332d8",
   "metadata": {},
   "outputs": [],
   "source": [
    "import pandas as pd \n",
    "import numpy as np\n",
    "import matplotlib.pyplot as plt\n",
    "import seaborn as sns"
   ]
  },
  {
   "cell_type": "code",
   "execution_count": 3,
   "id": "82549648-1e8a-47d8-a490-26beddfebda0",
   "metadata": {},
   "outputs": [],
   "source": [
    "df=pd.read_csv(r\"loan_data.csv\")"
   ]
  },
  {
   "cell_type": "code",
   "execution_count": 4,
   "id": "231ec028-de97-415e-b300-02f82dcd8d6a",
   "metadata": {},
   "outputs": [
    {
     "data": {
      "text/html": [
       "<div>\n",
       "<style scoped>\n",
       "    .dataframe tbody tr th:only-of-type {\n",
       "        vertical-align: middle;\n",
       "    }\n",
       "\n",
       "    .dataframe tbody tr th {\n",
       "        vertical-align: top;\n",
       "    }\n",
       "\n",
       "    .dataframe thead th {\n",
       "        text-align: right;\n",
       "    }\n",
       "</style>\n",
       "<table border=\"1\" class=\"dataframe\">\n",
       "  <thead>\n",
       "    <tr style=\"text-align: right;\">\n",
       "      <th></th>\n",
       "      <th>person_age</th>\n",
       "      <th>person_gender</th>\n",
       "      <th>person_education</th>\n",
       "      <th>person_income</th>\n",
       "      <th>person_emp_exp</th>\n",
       "      <th>person_home_ownership</th>\n",
       "      <th>loan_amnt</th>\n",
       "      <th>loan_intent</th>\n",
       "      <th>loan_int_rate</th>\n",
       "      <th>loan_percent_income</th>\n",
       "      <th>cb_person_cred_hist_length</th>\n",
       "      <th>credit_score</th>\n",
       "      <th>previous_loan_defaults_on_file</th>\n",
       "      <th>loan_status</th>\n",
       "    </tr>\n",
       "  </thead>\n",
       "  <tbody>\n",
       "    <tr>\n",
       "      <th>0</th>\n",
       "      <td>22.0</td>\n",
       "      <td>female</td>\n",
       "      <td>Master</td>\n",
       "      <td>71948.0</td>\n",
       "      <td>0</td>\n",
       "      <td>RENT</td>\n",
       "      <td>35000.0</td>\n",
       "      <td>PERSONAL</td>\n",
       "      <td>16.02</td>\n",
       "      <td>0.49</td>\n",
       "      <td>3.0</td>\n",
       "      <td>561</td>\n",
       "      <td>No</td>\n",
       "      <td>1</td>\n",
       "    </tr>\n",
       "    <tr>\n",
       "      <th>1</th>\n",
       "      <td>21.0</td>\n",
       "      <td>female</td>\n",
       "      <td>High School</td>\n",
       "      <td>12282.0</td>\n",
       "      <td>0</td>\n",
       "      <td>OWN</td>\n",
       "      <td>1000.0</td>\n",
       "      <td>EDUCATION</td>\n",
       "      <td>11.14</td>\n",
       "      <td>0.08</td>\n",
       "      <td>2.0</td>\n",
       "      <td>504</td>\n",
       "      <td>Yes</td>\n",
       "      <td>0</td>\n",
       "    </tr>\n",
       "    <tr>\n",
       "      <th>2</th>\n",
       "      <td>25.0</td>\n",
       "      <td>female</td>\n",
       "      <td>High School</td>\n",
       "      <td>12438.0</td>\n",
       "      <td>3</td>\n",
       "      <td>MORTGAGE</td>\n",
       "      <td>5500.0</td>\n",
       "      <td>MEDICAL</td>\n",
       "      <td>12.87</td>\n",
       "      <td>0.44</td>\n",
       "      <td>3.0</td>\n",
       "      <td>635</td>\n",
       "      <td>No</td>\n",
       "      <td>1</td>\n",
       "    </tr>\n",
       "    <tr>\n",
       "      <th>3</th>\n",
       "      <td>23.0</td>\n",
       "      <td>female</td>\n",
       "      <td>Bachelor</td>\n",
       "      <td>79753.0</td>\n",
       "      <td>0</td>\n",
       "      <td>RENT</td>\n",
       "      <td>35000.0</td>\n",
       "      <td>MEDICAL</td>\n",
       "      <td>15.23</td>\n",
       "      <td>0.44</td>\n",
       "      <td>2.0</td>\n",
       "      <td>675</td>\n",
       "      <td>No</td>\n",
       "      <td>1</td>\n",
       "    </tr>\n",
       "    <tr>\n",
       "      <th>4</th>\n",
       "      <td>24.0</td>\n",
       "      <td>male</td>\n",
       "      <td>Master</td>\n",
       "      <td>66135.0</td>\n",
       "      <td>1</td>\n",
       "      <td>RENT</td>\n",
       "      <td>35000.0</td>\n",
       "      <td>MEDICAL</td>\n",
       "      <td>14.27</td>\n",
       "      <td>0.53</td>\n",
       "      <td>4.0</td>\n",
       "      <td>586</td>\n",
       "      <td>No</td>\n",
       "      <td>1</td>\n",
       "    </tr>\n",
       "  </tbody>\n",
       "</table>\n",
       "</div>"
      ],
      "text/plain": [
       "   person_age person_gender person_education  person_income  person_emp_exp  \\\n",
       "0        22.0        female           Master        71948.0               0   \n",
       "1        21.0        female      High School        12282.0               0   \n",
       "2        25.0        female      High School        12438.0               3   \n",
       "3        23.0        female         Bachelor        79753.0               0   \n",
       "4        24.0          male           Master        66135.0               1   \n",
       "\n",
       "  person_home_ownership  loan_amnt loan_intent  loan_int_rate  \\\n",
       "0                  RENT    35000.0    PERSONAL          16.02   \n",
       "1                   OWN     1000.0   EDUCATION          11.14   \n",
       "2              MORTGAGE     5500.0     MEDICAL          12.87   \n",
       "3                  RENT    35000.0     MEDICAL          15.23   \n",
       "4                  RENT    35000.0     MEDICAL          14.27   \n",
       "\n",
       "   loan_percent_income  cb_person_cred_hist_length  credit_score  \\\n",
       "0                 0.49                         3.0           561   \n",
       "1                 0.08                         2.0           504   \n",
       "2                 0.44                         3.0           635   \n",
       "3                 0.44                         2.0           675   \n",
       "4                 0.53                         4.0           586   \n",
       "\n",
       "  previous_loan_defaults_on_file  loan_status  \n",
       "0                             No            1  \n",
       "1                            Yes            0  \n",
       "2                             No            1  \n",
       "3                             No            1  \n",
       "4                             No            1  "
      ]
     },
     "execution_count": 4,
     "metadata": {},
     "output_type": "execute_result"
    }
   ],
   "source": [
    "df.head()"
   ]
  },
  {
   "cell_type": "code",
   "execution_count": 5,
   "id": "3737a197-017f-49eb-8d8b-b75f912f8d08",
   "metadata": {},
   "outputs": [
    {
     "name": "stdout",
     "output_type": "stream",
     "text": [
      "<class 'pandas.core.frame.DataFrame'>\n",
      "RangeIndex: 45000 entries, 0 to 44999\n",
      "Data columns (total 14 columns):\n",
      " #   Column                          Non-Null Count  Dtype  \n",
      "---  ------                          --------------  -----  \n",
      " 0   person_age                      45000 non-null  float64\n",
      " 1   person_gender                   45000 non-null  object \n",
      " 2   person_education                45000 non-null  object \n",
      " 3   person_income                   45000 non-null  float64\n",
      " 4   person_emp_exp                  45000 non-null  int64  \n",
      " 5   person_home_ownership           45000 non-null  object \n",
      " 6   loan_amnt                       45000 non-null  float64\n",
      " 7   loan_intent                     45000 non-null  object \n",
      " 8   loan_int_rate                   45000 non-null  float64\n",
      " 9   loan_percent_income             45000 non-null  float64\n",
      " 10  cb_person_cred_hist_length      45000 non-null  float64\n",
      " 11  credit_score                    45000 non-null  int64  \n",
      " 12  previous_loan_defaults_on_file  45000 non-null  object \n",
      " 13  loan_status                     45000 non-null  int64  \n",
      "dtypes: float64(6), int64(3), object(5)\n",
      "memory usage: 4.8+ MB\n"
     ]
    }
   ],
   "source": [
    "df.info()"
   ]
  },
  {
   "cell_type": "code",
   "execution_count": 6,
   "id": "52826d4b-910f-415c-a4c4-f5192cf6c816",
   "metadata": {},
   "outputs": [],
   "source": [
    "df1=df[['person_age','person_income','person_emp_exp','person_home_ownership','loan_amnt','loan_int_rate','loan_percent_income','credit_score','previous_loan_defaults_on_file','loan_status']]"
   ]
  },
  {
   "cell_type": "code",
   "execution_count": 7,
   "id": "6d2aba39-7a78-4925-8d9c-4d027950b38a",
   "metadata": {},
   "outputs": [
    {
     "data": {
      "text/html": [
       "<div>\n",
       "<style scoped>\n",
       "    .dataframe tbody tr th:only-of-type {\n",
       "        vertical-align: middle;\n",
       "    }\n",
       "\n",
       "    .dataframe tbody tr th {\n",
       "        vertical-align: top;\n",
       "    }\n",
       "\n",
       "    .dataframe thead th {\n",
       "        text-align: right;\n",
       "    }\n",
       "</style>\n",
       "<table border=\"1\" class=\"dataframe\">\n",
       "  <thead>\n",
       "    <tr style=\"text-align: right;\">\n",
       "      <th></th>\n",
       "      <th>person_age</th>\n",
       "      <th>person_income</th>\n",
       "      <th>person_emp_exp</th>\n",
       "      <th>person_home_ownership</th>\n",
       "      <th>loan_amnt</th>\n",
       "      <th>loan_int_rate</th>\n",
       "      <th>loan_percent_income</th>\n",
       "      <th>credit_score</th>\n",
       "      <th>previous_loan_defaults_on_file</th>\n",
       "      <th>loan_status</th>\n",
       "    </tr>\n",
       "  </thead>\n",
       "  <tbody>\n",
       "    <tr>\n",
       "      <th>0</th>\n",
       "      <td>22.0</td>\n",
       "      <td>71948.0</td>\n",
       "      <td>0</td>\n",
       "      <td>RENT</td>\n",
       "      <td>35000.0</td>\n",
       "      <td>16.02</td>\n",
       "      <td>0.49</td>\n",
       "      <td>561</td>\n",
       "      <td>No</td>\n",
       "      <td>1</td>\n",
       "    </tr>\n",
       "    <tr>\n",
       "      <th>1</th>\n",
       "      <td>21.0</td>\n",
       "      <td>12282.0</td>\n",
       "      <td>0</td>\n",
       "      <td>OWN</td>\n",
       "      <td>1000.0</td>\n",
       "      <td>11.14</td>\n",
       "      <td>0.08</td>\n",
       "      <td>504</td>\n",
       "      <td>Yes</td>\n",
       "      <td>0</td>\n",
       "    </tr>\n",
       "    <tr>\n",
       "      <th>2</th>\n",
       "      <td>25.0</td>\n",
       "      <td>12438.0</td>\n",
       "      <td>3</td>\n",
       "      <td>MORTGAGE</td>\n",
       "      <td>5500.0</td>\n",
       "      <td>12.87</td>\n",
       "      <td>0.44</td>\n",
       "      <td>635</td>\n",
       "      <td>No</td>\n",
       "      <td>1</td>\n",
       "    </tr>\n",
       "    <tr>\n",
       "      <th>3</th>\n",
       "      <td>23.0</td>\n",
       "      <td>79753.0</td>\n",
       "      <td>0</td>\n",
       "      <td>RENT</td>\n",
       "      <td>35000.0</td>\n",
       "      <td>15.23</td>\n",
       "      <td>0.44</td>\n",
       "      <td>675</td>\n",
       "      <td>No</td>\n",
       "      <td>1</td>\n",
       "    </tr>\n",
       "    <tr>\n",
       "      <th>4</th>\n",
       "      <td>24.0</td>\n",
       "      <td>66135.0</td>\n",
       "      <td>1</td>\n",
       "      <td>RENT</td>\n",
       "      <td>35000.0</td>\n",
       "      <td>14.27</td>\n",
       "      <td>0.53</td>\n",
       "      <td>586</td>\n",
       "      <td>No</td>\n",
       "      <td>1</td>\n",
       "    </tr>\n",
       "    <tr>\n",
       "      <th>...</th>\n",
       "      <td>...</td>\n",
       "      <td>...</td>\n",
       "      <td>...</td>\n",
       "      <td>...</td>\n",
       "      <td>...</td>\n",
       "      <td>...</td>\n",
       "      <td>...</td>\n",
       "      <td>...</td>\n",
       "      <td>...</td>\n",
       "      <td>...</td>\n",
       "    </tr>\n",
       "    <tr>\n",
       "      <th>44995</th>\n",
       "      <td>27.0</td>\n",
       "      <td>47971.0</td>\n",
       "      <td>6</td>\n",
       "      <td>RENT</td>\n",
       "      <td>15000.0</td>\n",
       "      <td>15.66</td>\n",
       "      <td>0.31</td>\n",
       "      <td>645</td>\n",
       "      <td>No</td>\n",
       "      <td>1</td>\n",
       "    </tr>\n",
       "    <tr>\n",
       "      <th>44996</th>\n",
       "      <td>37.0</td>\n",
       "      <td>65800.0</td>\n",
       "      <td>17</td>\n",
       "      <td>RENT</td>\n",
       "      <td>9000.0</td>\n",
       "      <td>14.07</td>\n",
       "      <td>0.14</td>\n",
       "      <td>621</td>\n",
       "      <td>No</td>\n",
       "      <td>1</td>\n",
       "    </tr>\n",
       "    <tr>\n",
       "      <th>44997</th>\n",
       "      <td>33.0</td>\n",
       "      <td>56942.0</td>\n",
       "      <td>7</td>\n",
       "      <td>RENT</td>\n",
       "      <td>2771.0</td>\n",
       "      <td>10.02</td>\n",
       "      <td>0.05</td>\n",
       "      <td>668</td>\n",
       "      <td>No</td>\n",
       "      <td>1</td>\n",
       "    </tr>\n",
       "    <tr>\n",
       "      <th>44998</th>\n",
       "      <td>29.0</td>\n",
       "      <td>33164.0</td>\n",
       "      <td>4</td>\n",
       "      <td>RENT</td>\n",
       "      <td>12000.0</td>\n",
       "      <td>13.23</td>\n",
       "      <td>0.36</td>\n",
       "      <td>604</td>\n",
       "      <td>No</td>\n",
       "      <td>1</td>\n",
       "    </tr>\n",
       "    <tr>\n",
       "      <th>44999</th>\n",
       "      <td>24.0</td>\n",
       "      <td>51609.0</td>\n",
       "      <td>1</td>\n",
       "      <td>RENT</td>\n",
       "      <td>6665.0</td>\n",
       "      <td>17.05</td>\n",
       "      <td>0.13</td>\n",
       "      <td>628</td>\n",
       "      <td>No</td>\n",
       "      <td>1</td>\n",
       "    </tr>\n",
       "  </tbody>\n",
       "</table>\n",
       "<p>45000 rows × 10 columns</p>\n",
       "</div>"
      ],
      "text/plain": [
       "       person_age  person_income  person_emp_exp person_home_ownership  \\\n",
       "0            22.0        71948.0               0                  RENT   \n",
       "1            21.0        12282.0               0                   OWN   \n",
       "2            25.0        12438.0               3              MORTGAGE   \n",
       "3            23.0        79753.0               0                  RENT   \n",
       "4            24.0        66135.0               1                  RENT   \n",
       "...           ...            ...             ...                   ...   \n",
       "44995        27.0        47971.0               6                  RENT   \n",
       "44996        37.0        65800.0              17                  RENT   \n",
       "44997        33.0        56942.0               7                  RENT   \n",
       "44998        29.0        33164.0               4                  RENT   \n",
       "44999        24.0        51609.0               1                  RENT   \n",
       "\n",
       "       loan_amnt  loan_int_rate  loan_percent_income  credit_score  \\\n",
       "0        35000.0          16.02                 0.49           561   \n",
       "1         1000.0          11.14                 0.08           504   \n",
       "2         5500.0          12.87                 0.44           635   \n",
       "3        35000.0          15.23                 0.44           675   \n",
       "4        35000.0          14.27                 0.53           586   \n",
       "...          ...            ...                  ...           ...   \n",
       "44995    15000.0          15.66                 0.31           645   \n",
       "44996     9000.0          14.07                 0.14           621   \n",
       "44997     2771.0          10.02                 0.05           668   \n",
       "44998    12000.0          13.23                 0.36           604   \n",
       "44999     6665.0          17.05                 0.13           628   \n",
       "\n",
       "      previous_loan_defaults_on_file  loan_status  \n",
       "0                                 No            1  \n",
       "1                                Yes            0  \n",
       "2                                 No            1  \n",
       "3                                 No            1  \n",
       "4                                 No            1  \n",
       "...                              ...          ...  \n",
       "44995                             No            1  \n",
       "44996                             No            1  \n",
       "44997                             No            1  \n",
       "44998                             No            1  \n",
       "44999                             No            1  \n",
       "\n",
       "[45000 rows x 10 columns]"
      ]
     },
     "execution_count": 7,
     "metadata": {},
     "output_type": "execute_result"
    }
   ],
   "source": [
    "df1"
   ]
  },
  {
   "cell_type": "code",
   "execution_count": 8,
   "id": "71070407-2612-44c5-b523-783864760e9c",
   "metadata": {},
   "outputs": [
    {
     "data": {
      "text/plain": [
       "Index(['person_age', 'person_income', 'person_emp_exp',\n",
       "       'person_home_ownership', 'loan_amnt', 'loan_int_rate',\n",
       "       'loan_percent_income', 'credit_score', 'previous_loan_defaults_on_file',\n",
       "       'loan_status'],\n",
       "      dtype='object')"
      ]
     },
     "execution_count": 8,
     "metadata": {},
     "output_type": "execute_result"
    }
   ],
   "source": [
    "df1.columns"
   ]
  },
  {
   "cell_type": "code",
   "execution_count": 9,
   "id": "c6b858f1-f79f-4110-8406-be585b802d69",
   "metadata": {},
   "outputs": [
    {
     "data": {
      "text/html": [
       "<div>\n",
       "<style scoped>\n",
       "    .dataframe tbody tr th:only-of-type {\n",
       "        vertical-align: middle;\n",
       "    }\n",
       "\n",
       "    .dataframe tbody tr th {\n",
       "        vertical-align: top;\n",
       "    }\n",
       "\n",
       "    .dataframe thead th {\n",
       "        text-align: right;\n",
       "    }\n",
       "</style>\n",
       "<table border=\"1\" class=\"dataframe\">\n",
       "  <thead>\n",
       "    <tr style=\"text-align: right;\">\n",
       "      <th></th>\n",
       "      <th>person_age</th>\n",
       "      <th>person_income</th>\n",
       "      <th>person_emp_exp</th>\n",
       "      <th>loan_amnt</th>\n",
       "      <th>loan_int_rate</th>\n",
       "      <th>loan_percent_income</th>\n",
       "      <th>cb_person_cred_hist_length</th>\n",
       "      <th>credit_score</th>\n",
       "      <th>loan_status</th>\n",
       "    </tr>\n",
       "  </thead>\n",
       "  <tbody>\n",
       "    <tr>\n",
       "      <th>count</th>\n",
       "      <td>45000.000000</td>\n",
       "      <td>4.500000e+04</td>\n",
       "      <td>45000.000000</td>\n",
       "      <td>45000.000000</td>\n",
       "      <td>45000.000000</td>\n",
       "      <td>45000.000000</td>\n",
       "      <td>45000.000000</td>\n",
       "      <td>45000.000000</td>\n",
       "      <td>45000.000000</td>\n",
       "    </tr>\n",
       "    <tr>\n",
       "      <th>mean</th>\n",
       "      <td>27.764178</td>\n",
       "      <td>8.031905e+04</td>\n",
       "      <td>5.410333</td>\n",
       "      <td>9583.157556</td>\n",
       "      <td>11.006606</td>\n",
       "      <td>0.139725</td>\n",
       "      <td>5.867489</td>\n",
       "      <td>632.608756</td>\n",
       "      <td>0.222222</td>\n",
       "    </tr>\n",
       "    <tr>\n",
       "      <th>std</th>\n",
       "      <td>6.045108</td>\n",
       "      <td>8.042250e+04</td>\n",
       "      <td>6.063532</td>\n",
       "      <td>6314.886691</td>\n",
       "      <td>2.978808</td>\n",
       "      <td>0.087212</td>\n",
       "      <td>3.879702</td>\n",
       "      <td>50.435865</td>\n",
       "      <td>0.415744</td>\n",
       "    </tr>\n",
       "    <tr>\n",
       "      <th>min</th>\n",
       "      <td>20.000000</td>\n",
       "      <td>8.000000e+03</td>\n",
       "      <td>0.000000</td>\n",
       "      <td>500.000000</td>\n",
       "      <td>5.420000</td>\n",
       "      <td>0.000000</td>\n",
       "      <td>2.000000</td>\n",
       "      <td>390.000000</td>\n",
       "      <td>0.000000</td>\n",
       "    </tr>\n",
       "    <tr>\n",
       "      <th>25%</th>\n",
       "      <td>24.000000</td>\n",
       "      <td>4.720400e+04</td>\n",
       "      <td>1.000000</td>\n",
       "      <td>5000.000000</td>\n",
       "      <td>8.590000</td>\n",
       "      <td>0.070000</td>\n",
       "      <td>3.000000</td>\n",
       "      <td>601.000000</td>\n",
       "      <td>0.000000</td>\n",
       "    </tr>\n",
       "    <tr>\n",
       "      <th>50%</th>\n",
       "      <td>26.000000</td>\n",
       "      <td>6.704800e+04</td>\n",
       "      <td>4.000000</td>\n",
       "      <td>8000.000000</td>\n",
       "      <td>11.010000</td>\n",
       "      <td>0.120000</td>\n",
       "      <td>4.000000</td>\n",
       "      <td>640.000000</td>\n",
       "      <td>0.000000</td>\n",
       "    </tr>\n",
       "    <tr>\n",
       "      <th>75%</th>\n",
       "      <td>30.000000</td>\n",
       "      <td>9.578925e+04</td>\n",
       "      <td>8.000000</td>\n",
       "      <td>12237.250000</td>\n",
       "      <td>12.990000</td>\n",
       "      <td>0.190000</td>\n",
       "      <td>8.000000</td>\n",
       "      <td>670.000000</td>\n",
       "      <td>0.000000</td>\n",
       "    </tr>\n",
       "    <tr>\n",
       "      <th>max</th>\n",
       "      <td>144.000000</td>\n",
       "      <td>7.200766e+06</td>\n",
       "      <td>125.000000</td>\n",
       "      <td>35000.000000</td>\n",
       "      <td>20.000000</td>\n",
       "      <td>0.660000</td>\n",
       "      <td>30.000000</td>\n",
       "      <td>850.000000</td>\n",
       "      <td>1.000000</td>\n",
       "    </tr>\n",
       "  </tbody>\n",
       "</table>\n",
       "</div>"
      ],
      "text/plain": [
       "         person_age  person_income  person_emp_exp     loan_amnt  \\\n",
       "count  45000.000000   4.500000e+04    45000.000000  45000.000000   \n",
       "mean      27.764178   8.031905e+04        5.410333   9583.157556   \n",
       "std        6.045108   8.042250e+04        6.063532   6314.886691   \n",
       "min       20.000000   8.000000e+03        0.000000    500.000000   \n",
       "25%       24.000000   4.720400e+04        1.000000   5000.000000   \n",
       "50%       26.000000   6.704800e+04        4.000000   8000.000000   \n",
       "75%       30.000000   9.578925e+04        8.000000  12237.250000   \n",
       "max      144.000000   7.200766e+06      125.000000  35000.000000   \n",
       "\n",
       "       loan_int_rate  loan_percent_income  cb_person_cred_hist_length  \\\n",
       "count   45000.000000         45000.000000                45000.000000   \n",
       "mean       11.006606             0.139725                    5.867489   \n",
       "std         2.978808             0.087212                    3.879702   \n",
       "min         5.420000             0.000000                    2.000000   \n",
       "25%         8.590000             0.070000                    3.000000   \n",
       "50%        11.010000             0.120000                    4.000000   \n",
       "75%        12.990000             0.190000                    8.000000   \n",
       "max        20.000000             0.660000                   30.000000   \n",
       "\n",
       "       credit_score   loan_status  \n",
       "count  45000.000000  45000.000000  \n",
       "mean     632.608756      0.222222  \n",
       "std       50.435865      0.415744  \n",
       "min      390.000000      0.000000  \n",
       "25%      601.000000      0.000000  \n",
       "50%      640.000000      0.000000  \n",
       "75%      670.000000      0.000000  \n",
       "max      850.000000      1.000000  "
      ]
     },
     "execution_count": 9,
     "metadata": {},
     "output_type": "execute_result"
    }
   ],
   "source": [
    "df.describe()\n"
   ]
  },
  {
   "cell_type": "code",
   "execution_count": 10,
   "id": "46bd0e2d-21aa-4d9e-9f50-744ba1f65b18",
   "metadata": {},
   "outputs": [
    {
     "data": {
      "text/html": [
       "<div>\n",
       "<style scoped>\n",
       "    .dataframe tbody tr th:only-of-type {\n",
       "        vertical-align: middle;\n",
       "    }\n",
       "\n",
       "    .dataframe tbody tr th {\n",
       "        vertical-align: top;\n",
       "    }\n",
       "\n",
       "    .dataframe thead th {\n",
       "        text-align: right;\n",
       "    }\n",
       "</style>\n",
       "<table border=\"1\" class=\"dataframe\">\n",
       "  <thead>\n",
       "    <tr style=\"text-align: right;\">\n",
       "      <th></th>\n",
       "      <th>person_age</th>\n",
       "      <th>person_income</th>\n",
       "      <th>person_emp_exp</th>\n",
       "      <th>loan_amnt</th>\n",
       "      <th>loan_int_rate</th>\n",
       "      <th>loan_percent_income</th>\n",
       "      <th>cb_person_cred_hist_length</th>\n",
       "      <th>credit_score</th>\n",
       "      <th>loan_status</th>\n",
       "    </tr>\n",
       "  </thead>\n",
       "  <tbody>\n",
       "    <tr>\n",
       "      <th>person_age</th>\n",
       "      <td>1.000000</td>\n",
       "      <td>0.193698</td>\n",
       "      <td>0.954412</td>\n",
       "      <td>0.050750</td>\n",
       "      <td>0.013402</td>\n",
       "      <td>-0.043299</td>\n",
       "      <td>0.861985</td>\n",
       "      <td>0.178432</td>\n",
       "      <td>-0.021476</td>\n",
       "    </tr>\n",
       "    <tr>\n",
       "      <th>person_income</th>\n",
       "      <td>0.193698</td>\n",
       "      <td>1.000000</td>\n",
       "      <td>0.185987</td>\n",
       "      <td>0.242290</td>\n",
       "      <td>0.001510</td>\n",
       "      <td>-0.234177</td>\n",
       "      <td>0.124316</td>\n",
       "      <td>0.035919</td>\n",
       "      <td>-0.135808</td>\n",
       "    </tr>\n",
       "    <tr>\n",
       "      <th>person_emp_exp</th>\n",
       "      <td>0.954412</td>\n",
       "      <td>0.185987</td>\n",
       "      <td>1.000000</td>\n",
       "      <td>0.044589</td>\n",
       "      <td>0.016631</td>\n",
       "      <td>-0.039862</td>\n",
       "      <td>0.824272</td>\n",
       "      <td>0.186196</td>\n",
       "      <td>-0.020481</td>\n",
       "    </tr>\n",
       "    <tr>\n",
       "      <th>loan_amnt</th>\n",
       "      <td>0.050750</td>\n",
       "      <td>0.242290</td>\n",
       "      <td>0.044589</td>\n",
       "      <td>1.000000</td>\n",
       "      <td>0.146093</td>\n",
       "      <td>0.593011</td>\n",
       "      <td>0.042969</td>\n",
       "      <td>0.009074</td>\n",
       "      <td>0.107714</td>\n",
       "    </tr>\n",
       "    <tr>\n",
       "      <th>loan_int_rate</th>\n",
       "      <td>0.013402</td>\n",
       "      <td>0.001510</td>\n",
       "      <td>0.016631</td>\n",
       "      <td>0.146093</td>\n",
       "      <td>1.000000</td>\n",
       "      <td>0.125209</td>\n",
       "      <td>0.018008</td>\n",
       "      <td>0.011498</td>\n",
       "      <td>0.332005</td>\n",
       "    </tr>\n",
       "    <tr>\n",
       "      <th>loan_percent_income</th>\n",
       "      <td>-0.043299</td>\n",
       "      <td>-0.234177</td>\n",
       "      <td>-0.039862</td>\n",
       "      <td>0.593011</td>\n",
       "      <td>0.125209</td>\n",
       "      <td>1.000000</td>\n",
       "      <td>-0.031868</td>\n",
       "      <td>-0.011483</td>\n",
       "      <td>0.384880</td>\n",
       "    </tr>\n",
       "    <tr>\n",
       "      <th>cb_person_cred_hist_length</th>\n",
       "      <td>0.861985</td>\n",
       "      <td>0.124316</td>\n",
       "      <td>0.824272</td>\n",
       "      <td>0.042969</td>\n",
       "      <td>0.018008</td>\n",
       "      <td>-0.031868</td>\n",
       "      <td>1.000000</td>\n",
       "      <td>0.155204</td>\n",
       "      <td>-0.014851</td>\n",
       "    </tr>\n",
       "    <tr>\n",
       "      <th>credit_score</th>\n",
       "      <td>0.178432</td>\n",
       "      <td>0.035919</td>\n",
       "      <td>0.186196</td>\n",
       "      <td>0.009074</td>\n",
       "      <td>0.011498</td>\n",
       "      <td>-0.011483</td>\n",
       "      <td>0.155204</td>\n",
       "      <td>1.000000</td>\n",
       "      <td>-0.007647</td>\n",
       "    </tr>\n",
       "    <tr>\n",
       "      <th>loan_status</th>\n",
       "      <td>-0.021476</td>\n",
       "      <td>-0.135808</td>\n",
       "      <td>-0.020481</td>\n",
       "      <td>0.107714</td>\n",
       "      <td>0.332005</td>\n",
       "      <td>0.384880</td>\n",
       "      <td>-0.014851</td>\n",
       "      <td>-0.007647</td>\n",
       "      <td>1.000000</td>\n",
       "    </tr>\n",
       "  </tbody>\n",
       "</table>\n",
       "</div>"
      ],
      "text/plain": [
       "                            person_age  person_income  person_emp_exp  \\\n",
       "person_age                    1.000000       0.193698        0.954412   \n",
       "person_income                 0.193698       1.000000        0.185987   \n",
       "person_emp_exp                0.954412       0.185987        1.000000   \n",
       "loan_amnt                     0.050750       0.242290        0.044589   \n",
       "loan_int_rate                 0.013402       0.001510        0.016631   \n",
       "loan_percent_income          -0.043299      -0.234177       -0.039862   \n",
       "cb_person_cred_hist_length    0.861985       0.124316        0.824272   \n",
       "credit_score                  0.178432       0.035919        0.186196   \n",
       "loan_status                  -0.021476      -0.135808       -0.020481   \n",
       "\n",
       "                            loan_amnt  loan_int_rate  loan_percent_income  \\\n",
       "person_age                   0.050750       0.013402            -0.043299   \n",
       "person_income                0.242290       0.001510            -0.234177   \n",
       "person_emp_exp               0.044589       0.016631            -0.039862   \n",
       "loan_amnt                    1.000000       0.146093             0.593011   \n",
       "loan_int_rate                0.146093       1.000000             0.125209   \n",
       "loan_percent_income          0.593011       0.125209             1.000000   \n",
       "cb_person_cred_hist_length   0.042969       0.018008            -0.031868   \n",
       "credit_score                 0.009074       0.011498            -0.011483   \n",
       "loan_status                  0.107714       0.332005             0.384880   \n",
       "\n",
       "                            cb_person_cred_hist_length  credit_score  \\\n",
       "person_age                                    0.861985      0.178432   \n",
       "person_income                                 0.124316      0.035919   \n",
       "person_emp_exp                                0.824272      0.186196   \n",
       "loan_amnt                                     0.042969      0.009074   \n",
       "loan_int_rate                                 0.018008      0.011498   \n",
       "loan_percent_income                          -0.031868     -0.011483   \n",
       "cb_person_cred_hist_length                    1.000000      0.155204   \n",
       "credit_score                                  0.155204      1.000000   \n",
       "loan_status                                  -0.014851     -0.007647   \n",
       "\n",
       "                            loan_status  \n",
       "person_age                    -0.021476  \n",
       "person_income                 -0.135808  \n",
       "person_emp_exp                -0.020481  \n",
       "loan_amnt                      0.107714  \n",
       "loan_int_rate                  0.332005  \n",
       "loan_percent_income            0.384880  \n",
       "cb_person_cred_hist_length    -0.014851  \n",
       "credit_score                  -0.007647  \n",
       "loan_status                    1.000000  "
      ]
     },
     "execution_count": 10,
     "metadata": {},
     "output_type": "execute_result"
    }
   ],
   "source": [
    "df.corr(numeric_only=True)\n",
    "df.select_dtypes(include=['number']).corr()"
   ]
  },
  {
   "cell_type": "code",
   "execution_count": 11,
   "id": "76d9b424-8ed1-43ad-8de4-9fcf8634f0fe",
   "metadata": {},
   "outputs": [
    {
     "data": {
      "text/plain": [
       "person_age                        0\n",
       "person_income                     0\n",
       "person_emp_exp                    0\n",
       "person_home_ownership             0\n",
       "loan_amnt                         0\n",
       "loan_int_rate                     0\n",
       "loan_percent_income               0\n",
       "credit_score                      0\n",
       "previous_loan_defaults_on_file    0\n",
       "loan_status                       0\n",
       "dtype: int64"
      ]
     },
     "execution_count": 11,
     "metadata": {},
     "output_type": "execute_result"
    }
   ],
   "source": [
    "df1.isnull().sum()"
   ]
  },
  {
   "cell_type": "code",
   "execution_count": 12,
   "id": "16847d8d-0c92-4dab-94f2-b7812136ce25",
   "metadata": {},
   "outputs": [
    {
     "data": {
      "text/plain": [
       "<Axes: xlabel='person_age'>"
      ]
     },
     "execution_count": 12,
     "metadata": {},
     "output_type": "execute_result"
    },
    {
     "data": {
      "image/png": "[encoded data removed]",
      "text/plain": [
       "<Figure size 640x480 with 1 Axes>"
      ]
     },
     "metadata": {},
     "output_type": "display_data"
    }
   ],
   "source": [
    "sns.boxplot(x = df1.person_age)"
   ]
  },
  {
   "cell_type": "code",
   "execution_count": 13,
   "id": "5cc4cdf0-dfeb-4e5e-92f7-54e5c8d8755f",
   "metadata": {},
   "outputs": [
    {
     "data": {
      "text/plain": [
       "<Axes: xlabel='person_income'>"
      ]
     },
     "execution_count": 13,
     "metadata": {},
     "output_type": "execute_result"
    },
    {
     "data": {
      "image/png": "[encoded data removed]",
      "text/plain": [
       "<Figure size 640x480 with 1 Axes>"
      ]
     },
     "metadata": {},
     "output_type": "display_data"
    }
   ],
   "source": [
    "sns.boxplot(x =df1.person_income)"
   ]
  },
  {
   "cell_type": "code",
   "execution_count": 14,
   "id": "5b1c1d6f-f651-4f84-9e78-a8ab298cd367",
   "metadata": {},
   "outputs": [
    {
     "data": {
      "text/plain": [
       "<Axes: xlabel='person_emp_exp'>"
      ]
     },
     "execution_count": 14,
     "metadata": {},
     "output_type": "execute_result"
    },
    {
     "data": {
      "image/png": "[encoded data removed]",
      "text/plain": [
       "<Figure size 640x480 with 1 Axes>"
      ]
     },
     "metadata": {},
     "output_type": "display_data"
    }
   ],
   "source": [
    "sns.boxplot( x = df1.person_emp_exp)"
   ]
  },
  {
   "cell_type": "code",
   "execution_count": 15,
   "id": "e740333c-1018-475d-b6c0-879b04aa8b1a",
   "metadata": {},
   "outputs": [
    {
     "data": {
      "text/plain": [
       "<Axes: xlabel='person_home_ownership'>"
      ]
     },
     "execution_count": 15,
     "metadata": {},
     "output_type": "execute_result"
    },
    {
     "data": {
      "image/png": "[encoded data removed]",
      "text/plain": [
       "<Figure size 640x480 with 1 Axes>"
      ]
     },
     "metadata": {},
     "output_type": "display_data"
    }
   ],
   "source": [
    "sns.boxplot(x = df1.person_home_ownership)"
   ]
  },
  {
   "cell_type": "code",
   "execution_count": 16,
   "id": "9ad43b2a-eaa8-4ee8-82b9-085e2abe6bbd",
   "metadata": {},
   "outputs": [
    {
     "data": {
      "text/plain": [
       "<Axes: xlabel='loan_amnt'>"
      ]
     },
     "execution_count": 16,
     "metadata": {},
     "output_type": "execute_result"
    },
    {
     "data": {
      "image/png": "[encoded data removed]",
      "text/plain": [
       "<Figure size 640x480 with 1 Axes>"
      ]
     },
     "metadata": {},
     "output_type": "display_data"
    }
   ],
   "source": [
    "sns.boxplot( x = df1.loan_amnt)"
   ]
  },
  {
   "cell_type": "code",
   "execution_count": 17,
   "id": "e81f5c9c-64ee-48ea-95f4-5e10ca251735",
   "metadata": {},
   "outputs": [
    {
     "data": {
      "text/plain": [
       "<Axes: xlabel='loan_int_rate'>"
      ]
     },
     "execution_count": 17,
     "metadata": {},
     "output_type": "execute_result"
    },
    {
     "data": {
      "image/png": "[encoded data removed]",
      "text/plain": [
       "<Figure size 640x480 with 1 Axes>"
      ]
     },
     "metadata": {},
     "output_type": "display_data"
    }
   ],
   "source": [
    "sns.boxplot( x = df1.loan_int_rate)"
   ]
  },
  {
   "cell_type": "code",
   "execution_count": 18,
   "id": "04c723e5-7c53-4cc1-bff7-a40575f346d7",
   "metadata": {},
   "outputs": [
    {
     "data": {
      "text/plain": [
       "<Axes: xlabel='loan_percent_income'>"
      ]
     },
     "execution_count": 18,
     "metadata": {},
     "output_type": "execute_result"
    },
    {
     "data": {
      "image/png": "[encoded data removed]",
      "text/plain": [
       "<Figure size 640x480 with 1 Axes>"
      ]
     },
     "metadata": {},
     "output_type": "display_data"
    }
   ],
   "source": [
    "sns.boxplot( x = df1.loan_percent_income)"
   ]
  },
  {
   "cell_type": "code",
   "execution_count": 19,
   "id": "76e53e4d-a5f3-455e-8ad9-435aee3b57f7",
   "metadata": {},
   "outputs": [
    {
     "data": {
      "text/plain": [
       "<Axes: xlabel='loan_percent_income'>"
      ]
     },
     "execution_count": 19,
     "metadata": {},
     "output_type": "execute_result"
    },
    {
     "data": {
      "image/png": "[encoded data removed]",
      "text/plain": [
       "<Figure size 640x480 with 1 Axes>"
      ]
     },
     "metadata": {},
     "output_type": "display_data"
    }
   ],
   "source": [
    "sns.boxplot(x = df1.loan_percent_income)"
   ]
  },
  {
   "cell_type": "code",
   "execution_count": 20,
   "id": "5f1a9ee5-4a88-4f90-9d59-c05f6d130a29",
   "metadata": {},
   "outputs": [
    {
     "data": {
      "text/plain": [
       "<Axes: xlabel='credit_score'>"
      ]
     },
     "execution_count": 20,
     "metadata": {},
     "output_type": "execute_result"
    },
    {
     "data": {
      "image/png": "[encoded data removed]",
      "text/plain": [
       "<Figure size 640x480 with 1 Axes>"
      ]
     },
     "metadata": {},
     "output_type": "display_data"
    }
   ],
   "source": [
    "sns.boxplot( x = df1.credit_score)"
   ]
  },
  {
   "cell_type": "code",
   "execution_count": 21,
   "id": "0806cf5b-6f95-416e-b403-70491386d4b8",
   "metadata": {},
   "outputs": [
    {
     "data": {
      "text/plain": [
       "<Axes: xlabel='previous_loan_defaults_on_file'>"
      ]
     },
     "execution_count": 21,
     "metadata": {},
     "output_type": "execute_result"
    },
    {
     "data": {
      "image/png": "[encoded data removed]",
      "text/plain": [
       "<Figure size 640x480 with 1 Axes>"
      ]
     },
     "metadata": {},
     "output_type": "display_data"
    }
   ],
   "source": [
    "sns.boxplot( x = df1.previous_loan_defaults_on_file)"
   ]
  },
  {
   "cell_type": "code",
   "execution_count": 22,
   "id": "1070be76-dd13-4582-9844-321e9da6e290",
   "metadata": {},
   "outputs": [
    {
     "data": {
      "text/plain": [
       "<Axes: xlabel='loan_status'>"
      ]
     },
     "execution_count": 22,
     "metadata": {},
     "output_type": "execute_result"
    },
    {
     "data": {
      "image/png": "[encoded data removed]",
      "text/plain": [
       "<Figure size 640x480 with 1 Axes>"
      ]
     },
     "metadata": {},
     "output_type": "display_data"
    }
   ],
   "source": [
    "sns.boxplot(x = df1.loan_status)"
   ]
  },
  {
   "cell_type": "code",
   "execution_count": 23,
   "id": "6857da13-a21f-4df2-bf91-5534de769e42",
   "metadata": {},
   "outputs": [
    {
     "data": {
      "text/plain": [
       "person_age                        float64\n",
       "person_income                     float64\n",
       "person_emp_exp                      int64\n",
       "person_home_ownership              object\n",
       "loan_amnt                         float64\n",
       "loan_int_rate                     float64\n",
       "loan_percent_income               float64\n",
       "credit_score                        int64\n",
       "previous_loan_defaults_on_file     object\n",
       "loan_status                         int64\n",
       "dtype: object"
      ]
     },
     "execution_count": 23,
     "metadata": {},
     "output_type": "execute_result"
    }
   ],
   "source": [
    "df1.dtypes"
   ]
  },
  {
   "cell_type": "code",
   "execution_count": 24,
   "id": "cf5420a3-0c5f-4a1d-8ddd-c4c18f18c034",
   "metadata": {},
   "outputs": [
    {
     "data": {
      "text/plain": [
       "loan_status\n",
       "0    35000\n",
       "1    10000\n",
       "Name: count, dtype: int64"
      ]
     },
     "execution_count": 24,
     "metadata": {},
     "output_type": "execute_result"
    }
   ],
   "source": [
    "df1['loan_status'].value_counts()"
   ]
  },
  {
   "cell_type": "code",
   "execution_count": 25,
   "id": "35e5972b-7031-4a65-b7a2-4e3b2d060a6e",
   "metadata": {},
   "outputs": [],
   "source": [
    "Q1=df1['loan_amnt'].quantile(0.25)\n",
    "Q3=df1['loan_amnt'].quantile(0.75)"
   ]
  },
  {
   "cell_type": "code",
   "execution_count": 26,
   "id": "524ed293-4569-41b5-b815-e7acdbbc8fd8",
   "metadata": {},
   "outputs": [
    {
     "name": "stdout",
     "output_type": "stream",
     "text": [
      "5000.0 12237.25\n"
     ]
    }
   ],
   "source": [
    "print(Q1,Q3)"
   ]
  },
  {
   "cell_type": "code",
   "execution_count": 27,
   "id": "9e6fde83-9f8d-4c3e-9911-9e17a8c690f7",
   "metadata": {},
   "outputs": [],
   "source": [
    "IQR=Q3-Q1\n",
    "l_limit=Q1-1.5*IQR\n",
    "u_limit=Q3+1.5*IQR"
   ]
  },
  {
   "cell_type": "code",
   "execution_count": 28,
   "id": "f64bd586-cfb1-4375-a9b4-30834a5f1f65",
   "metadata": {},
   "outputs": [
    {
     "name": "stdout",
     "output_type": "stream",
     "text": [
      "-5855.875 23093.125\n"
     ]
    }
   ],
   "source": [
    "print(l_limit,u_limit)"
   ]
  },
  {
   "cell_type": "code",
   "execution_count": 29,
   "id": "4043afef-3c55-420e-99de-a11c48e5a169",
   "metadata": {},
   "outputs": [],
   "source": [
    "df2 = df1[(df1.loan_amnt > l_limit) & (df1.loan_amnt < u_limit)]"
   ]
  },
  {
   "cell_type": "code",
   "execution_count": 30,
   "id": "48e570c9-ce45-4d86-b8dc-913f347334f1",
   "metadata": {},
   "outputs": [
    {
     "data": {
      "text/html": [
       "<div>\n",
       "<style scoped>\n",
       "    .dataframe tbody tr th:only-of-type {\n",
       "        vertical-align: middle;\n",
       "    }\n",
       "\n",
       "    .dataframe tbody tr th {\n",
       "        vertical-align: top;\n",
       "    }\n",
       "\n",
       "    .dataframe thead th {\n",
       "        text-align: right;\n",
       "    }\n",
       "</style>\n",
       "<table border=\"1\" class=\"dataframe\">\n",
       "  <thead>\n",
       "    <tr style=\"text-align: right;\">\n",
       "      <th></th>\n",
       "      <th>person_age</th>\n",
       "      <th>person_income</th>\n",
       "      <th>person_emp_exp</th>\n",
       "      <th>person_home_ownership</th>\n",
       "      <th>loan_amnt</th>\n",
       "      <th>loan_int_rate</th>\n",
       "      <th>loan_percent_income</th>\n",
       "      <th>credit_score</th>\n",
       "      <th>previous_loan_defaults_on_file</th>\n",
       "      <th>loan_status</th>\n",
       "    </tr>\n",
       "  </thead>\n",
       "  <tbody>\n",
       "    <tr>\n",
       "      <th>1</th>\n",
       "      <td>21.0</td>\n",
       "      <td>12282.0</td>\n",
       "      <td>0</td>\n",
       "      <td>OWN</td>\n",
       "      <td>1000.0</td>\n",
       "      <td>11.14</td>\n",
       "      <td>0.08</td>\n",
       "      <td>504</td>\n",
       "      <td>Yes</td>\n",
       "      <td>0</td>\n",
       "    </tr>\n",
       "    <tr>\n",
       "      <th>2</th>\n",
       "      <td>25.0</td>\n",
       "      <td>12438.0</td>\n",
       "      <td>3</td>\n",
       "      <td>MORTGAGE</td>\n",
       "      <td>5500.0</td>\n",
       "      <td>12.87</td>\n",
       "      <td>0.44</td>\n",
       "      <td>635</td>\n",
       "      <td>No</td>\n",
       "      <td>1</td>\n",
       "    </tr>\n",
       "    <tr>\n",
       "      <th>5</th>\n",
       "      <td>21.0</td>\n",
       "      <td>12951.0</td>\n",
       "      <td>0</td>\n",
       "      <td>OWN</td>\n",
       "      <td>2500.0</td>\n",
       "      <td>7.14</td>\n",
       "      <td>0.19</td>\n",
       "      <td>532</td>\n",
       "      <td>No</td>\n",
       "      <td>1</td>\n",
       "    </tr>\n",
       "    <tr>\n",
       "      <th>9</th>\n",
       "      <td>21.0</td>\n",
       "      <td>12739.0</td>\n",
       "      <td>0</td>\n",
       "      <td>OWN</td>\n",
       "      <td>1600.0</td>\n",
       "      <td>14.74</td>\n",
       "      <td>0.13</td>\n",
       "      <td>640</td>\n",
       "      <td>No</td>\n",
       "      <td>1</td>\n",
       "    </tr>\n",
       "    <tr>\n",
       "      <th>11</th>\n",
       "      <td>21.0</td>\n",
       "      <td>13113.0</td>\n",
       "      <td>0</td>\n",
       "      <td>OWN</td>\n",
       "      <td>4500.0</td>\n",
       "      <td>8.63</td>\n",
       "      <td>0.34</td>\n",
       "      <td>651</td>\n",
       "      <td>No</td>\n",
       "      <td>1</td>\n",
       "    </tr>\n",
       "    <tr>\n",
       "      <th>...</th>\n",
       "      <td>...</td>\n",
       "      <td>...</td>\n",
       "      <td>...</td>\n",
       "      <td>...</td>\n",
       "      <td>...</td>\n",
       "      <td>...</td>\n",
       "      <td>...</td>\n",
       "      <td>...</td>\n",
       "      <td>...</td>\n",
       "      <td>...</td>\n",
       "    </tr>\n",
       "    <tr>\n",
       "      <th>44995</th>\n",
       "      <td>27.0</td>\n",
       "      <td>47971.0</td>\n",
       "      <td>6</td>\n",
       "      <td>RENT</td>\n",
       "      <td>15000.0</td>\n",
       "      <td>15.66</td>\n",
       "      <td>0.31</td>\n",
       "      <td>645</td>\n",
       "      <td>No</td>\n",
       "      <td>1</td>\n",
       "    </tr>\n",
       "    <tr>\n",
       "      <th>44996</th>\n",
       "      <td>37.0</td>\n",
       "      <td>65800.0</td>\n",
       "      <td>17</td>\n",
       "      <td>RENT</td>\n",
       "      <td>9000.0</td>\n",
       "      <td>14.07</td>\n",
       "      <td>0.14</td>\n",
       "      <td>621</td>\n",
       "      <td>No</td>\n",
       "      <td>1</td>\n",
       "    </tr>\n",
       "    <tr>\n",
       "      <th>44997</th>\n",
       "      <td>33.0</td>\n",
       "      <td>56942.0</td>\n",
       "      <td>7</td>\n",
       "      <td>RENT</td>\n",
       "      <td>2771.0</td>\n",
       "      <td>10.02</td>\n",
       "      <td>0.05</td>\n",
       "      <td>668</td>\n",
       "      <td>No</td>\n",
       "      <td>1</td>\n",
       "    </tr>\n",
       "    <tr>\n",
       "      <th>44998</th>\n",
       "      <td>29.0</td>\n",
       "      <td>33164.0</td>\n",
       "      <td>4</td>\n",
       "      <td>RENT</td>\n",
       "      <td>12000.0</td>\n",
       "      <td>13.23</td>\n",
       "      <td>0.36</td>\n",
       "      <td>604</td>\n",
       "      <td>No</td>\n",
       "      <td>1</td>\n",
       "    </tr>\n",
       "    <tr>\n",
       "      <th>44999</th>\n",
       "      <td>24.0</td>\n",
       "      <td>51609.0</td>\n",
       "      <td>1</td>\n",
       "      <td>RENT</td>\n",
       "      <td>6665.0</td>\n",
       "      <td>17.05</td>\n",
       "      <td>0.13</td>\n",
       "      <td>628</td>\n",
       "      <td>No</td>\n",
       "      <td>1</td>\n",
       "    </tr>\n",
       "  </tbody>\n",
       "</table>\n",
       "<p>42652 rows × 10 columns</p>\n",
       "</div>"
      ],
      "text/plain": [
       "       person_age  person_income  person_emp_exp person_home_ownership  \\\n",
       "1            21.0        12282.0               0                   OWN   \n",
       "2            25.0        12438.0               3              MORTGAGE   \n",
       "5            21.0        12951.0               0                   OWN   \n",
       "9            21.0        12739.0               0                   OWN   \n",
       "11           21.0        13113.0               0                   OWN   \n",
       "...           ...            ...             ...                   ...   \n",
       "44995        27.0        47971.0               6                  RENT   \n",
       "44996        37.0        65800.0              17                  RENT   \n",
       "44997        33.0        56942.0               7                  RENT   \n",
       "44998        29.0        33164.0               4                  RENT   \n",
       "44999        24.0        51609.0               1                  RENT   \n",
       "\n",
       "       loan_amnt  loan_int_rate  loan_percent_income  credit_score  \\\n",
       "1         1000.0          11.14                 0.08           504   \n",
       "2         5500.0          12.87                 0.44           635   \n",
       "5         2500.0           7.14                 0.19           532   \n",
       "9         1600.0          14.74                 0.13           640   \n",
       "11        4500.0           8.63                 0.34           651   \n",
       "...          ...            ...                  ...           ...   \n",
       "44995    15000.0          15.66                 0.31           645   \n",
       "44996     9000.0          14.07                 0.14           621   \n",
       "44997     2771.0          10.02                 0.05           668   \n",
       "44998    12000.0          13.23                 0.36           604   \n",
       "44999     6665.0          17.05                 0.13           628   \n",
       "\n",
       "      previous_loan_defaults_on_file  loan_status  \n",
       "1                                Yes            0  \n",
       "2                                 No            1  \n",
       "5                                 No            1  \n",
       "9                                 No            1  \n",
       "11                                No            1  \n",
       "...                              ...          ...  \n",
       "44995                             No            1  \n",
       "44996                             No            1  \n",
       "44997                             No            1  \n",
       "44998                             No            1  \n",
       "44999                             No            1  \n",
       "\n",
       "[42652 rows x 10 columns]"
      ]
     },
     "execution_count": 30,
     "metadata": {},
     "output_type": "execute_result"
    }
   ],
   "source": [
    "df2"
   ]
  },
  {
   "cell_type": "code",
   "execution_count": 31,
   "id": "78b73703-4557-4559-89c0-2331aa739e46",
   "metadata": {},
   "outputs": [
    {
     "data": {
      "text/plain": [
       "person_home_ownership\n",
       "RENT        22669\n",
       "MORTGAGE    17070\n",
       "OWN          2803\n",
       "OTHER         110\n",
       "Name: count, dtype: int64"
      ]
     },
     "execution_count": 31,
     "metadata": {},
     "output_type": "execute_result"
    }
   ],
   "source": [
    "df2['person_home_ownership'].value_counts()"
   ]
  },
  {
   "cell_type": "code",
   "execution_count": 32,
   "id": "3de38328-e9ab-43bf-9aa0-97f76ff8aaf4",
   "metadata": {},
   "outputs": [
    {
     "name": "stderr",
     "output_type": "stream",
     "text": [
      "C:\\Users\\suyog\\AppData\\Local\\Temp\\ipykernel_21948\\4075231178.py:5: SettingWithCopyWarning: \n",
      "A value is trying to be set on a copy of a slice from a DataFrame.\n",
      "Try using .loc[row_indexer,col_indexer] = value instead\n",
      "\n",
      "See the caveats in the documentation: https://pandas.pydata.org/pandas-docs/stable/user_guide/indexing.html#returning-a-view-versus-a-copy\n",
      "  df2['person_home_ownership'] = lb.fit_transform(df2['person_home_ownership'])\n"
     ]
    }
   ],
   "source": [
    "from sklearn.preprocessing import LabelEncoder\n",
    "\n",
    "lb = LabelEncoder()\n",
    "\n",
    "df2['person_home_ownership'] = lb.fit_transform(df2['person_home_ownership'])"
   ]
  },
  {
   "cell_type": "code",
   "execution_count": 33,
   "id": "01b31821-84a3-4df9-8a08-5947bca2f111",
   "metadata": {},
   "outputs": [
    {
     "data": {
      "text/html": [
       "<div>\n",
       "<style scoped>\n",
       "    .dataframe tbody tr th:only-of-type {\n",
       "        vertical-align: middle;\n",
       "    }\n",
       "\n",
       "    .dataframe tbody tr th {\n",
       "        vertical-align: top;\n",
       "    }\n",
       "\n",
       "    .dataframe thead th {\n",
       "        text-align: right;\n",
       "    }\n",
       "</style>\n",
       "<table border=\"1\" class=\"dataframe\">\n",
       "  <thead>\n",
       "    <tr style=\"text-align: right;\">\n",
       "      <th></th>\n",
       "      <th>person_age</th>\n",
       "      <th>person_income</th>\n",
       "      <th>person_emp_exp</th>\n",
       "      <th>person_home_ownership</th>\n",
       "      <th>loan_amnt</th>\n",
       "      <th>loan_int_rate</th>\n",
       "      <th>loan_percent_income</th>\n",
       "      <th>credit_score</th>\n",
       "      <th>previous_loan_defaults_on_file</th>\n",
       "      <th>loan_status</th>\n",
       "    </tr>\n",
       "  </thead>\n",
       "  <tbody>\n",
       "    <tr>\n",
       "      <th>1</th>\n",
       "      <td>21.0</td>\n",
       "      <td>12282.0</td>\n",
       "      <td>0</td>\n",
       "      <td>2</td>\n",
       "      <td>1000.0</td>\n",
       "      <td>11.14</td>\n",
       "      <td>0.08</td>\n",
       "      <td>504</td>\n",
       "      <td>Yes</td>\n",
       "      <td>0</td>\n",
       "    </tr>\n",
       "    <tr>\n",
       "      <th>2</th>\n",
       "      <td>25.0</td>\n",
       "      <td>12438.0</td>\n",
       "      <td>3</td>\n",
       "      <td>0</td>\n",
       "      <td>5500.0</td>\n",
       "      <td>12.87</td>\n",
       "      <td>0.44</td>\n",
       "      <td>635</td>\n",
       "      <td>No</td>\n",
       "      <td>1</td>\n",
       "    </tr>\n",
       "    <tr>\n",
       "      <th>5</th>\n",
       "      <td>21.0</td>\n",
       "      <td>12951.0</td>\n",
       "      <td>0</td>\n",
       "      <td>2</td>\n",
       "      <td>2500.0</td>\n",
       "      <td>7.14</td>\n",
       "      <td>0.19</td>\n",
       "      <td>532</td>\n",
       "      <td>No</td>\n",
       "      <td>1</td>\n",
       "    </tr>\n",
       "    <tr>\n",
       "      <th>9</th>\n",
       "      <td>21.0</td>\n",
       "      <td>12739.0</td>\n",
       "      <td>0</td>\n",
       "      <td>2</td>\n",
       "      <td>1600.0</td>\n",
       "      <td>14.74</td>\n",
       "      <td>0.13</td>\n",
       "      <td>640</td>\n",
       "      <td>No</td>\n",
       "      <td>1</td>\n",
       "    </tr>\n",
       "    <tr>\n",
       "      <th>11</th>\n",
       "      <td>21.0</td>\n",
       "      <td>13113.0</td>\n",
       "      <td>0</td>\n",
       "      <td>2</td>\n",
       "      <td>4500.0</td>\n",
       "      <td>8.63</td>\n",
       "      <td>0.34</td>\n",
       "      <td>651</td>\n",
       "      <td>No</td>\n",
       "      <td>1</td>\n",
       "    </tr>\n",
       "    <tr>\n",
       "      <th>...</th>\n",
       "      <td>...</td>\n",
       "      <td>...</td>\n",
       "      <td>...</td>\n",
       "      <td>...</td>\n",
       "      <td>...</td>\n",
       "      <td>...</td>\n",
       "      <td>...</td>\n",
       "      <td>...</td>\n",
       "      <td>...</td>\n",
       "      <td>...</td>\n",
       "    </tr>\n",
       "    <tr>\n",
       "      <th>44995</th>\n",
       "      <td>27.0</td>\n",
       "      <td>47971.0</td>\n",
       "      <td>6</td>\n",
       "      <td>3</td>\n",
       "      <td>15000.0</td>\n",
       "      <td>15.66</td>\n",
       "      <td>0.31</td>\n",
       "      <td>645</td>\n",
       "      <td>No</td>\n",
       "      <td>1</td>\n",
       "    </tr>\n",
       "    <tr>\n",
       "      <th>44996</th>\n",
       "      <td>37.0</td>\n",
       "      <td>65800.0</td>\n",
       "      <td>17</td>\n",
       "      <td>3</td>\n",
       "      <td>9000.0</td>\n",
       "      <td>14.07</td>\n",
       "      <td>0.14</td>\n",
       "      <td>621</td>\n",
       "      <td>No</td>\n",
       "      <td>1</td>\n",
       "    </tr>\n",
       "    <tr>\n",
       "      <th>44997</th>\n",
       "      <td>33.0</td>\n",
       "      <td>56942.0</td>\n",
       "      <td>7</td>\n",
       "      <td>3</td>\n",
       "      <td>2771.0</td>\n",
       "      <td>10.02</td>\n",
       "      <td>0.05</td>\n",
       "      <td>668</td>\n",
       "      <td>No</td>\n",
       "      <td>1</td>\n",
       "    </tr>\n",
       "    <tr>\n",
       "      <th>44998</th>\n",
       "      <td>29.0</td>\n",
       "      <td>33164.0</td>\n",
       "      <td>4</td>\n",
       "      <td>3</td>\n",
       "      <td>12000.0</td>\n",
       "      <td>13.23</td>\n",
       "      <td>0.36</td>\n",
       "      <td>604</td>\n",
       "      <td>No</td>\n",
       "      <td>1</td>\n",
       "    </tr>\n",
       "    <tr>\n",
       "      <th>44999</th>\n",
       "      <td>24.0</td>\n",
       "      <td>51609.0</td>\n",
       "      <td>1</td>\n",
       "      <td>3</td>\n",
       "      <td>6665.0</td>\n",
       "      <td>17.05</td>\n",
       "      <td>0.13</td>\n",
       "      <td>628</td>\n",
       "      <td>No</td>\n",
       "      <td>1</td>\n",
       "    </tr>\n",
       "  </tbody>\n",
       "</table>\n",
       "<p>42652 rows × 10 columns</p>\n",
       "</div>"
      ],
      "text/plain": [
       "       person_age  person_income  person_emp_exp  person_home_ownership  \\\n",
       "1            21.0        12282.0               0                      2   \n",
       "2            25.0        12438.0               3                      0   \n",
       "5            21.0        12951.0               0                      2   \n",
       "9            21.0        12739.0               0                      2   \n",
       "11           21.0        13113.0               0                      2   \n",
       "...           ...            ...             ...                    ...   \n",
       "44995        27.0        47971.0               6                      3   \n",
       "44996        37.0        65800.0              17                      3   \n",
       "44997        33.0        56942.0               7                      3   \n",
       "44998        29.0        33164.0               4                      3   \n",
       "44999        24.0        51609.0               1                      3   \n",
       "\n",
       "       loan_amnt  loan_int_rate  loan_percent_income  credit_score  \\\n",
       "1         1000.0          11.14                 0.08           504   \n",
       "2         5500.0          12.87                 0.44           635   \n",
       "5         2500.0           7.14                 0.19           532   \n",
       "9         1600.0          14.74                 0.13           640   \n",
       "11        4500.0           8.63                 0.34           651   \n",
       "...          ...            ...                  ...           ...   \n",
       "44995    15000.0          15.66                 0.31           645   \n",
       "44996     9000.0          14.07                 0.14           621   \n",
       "44997     2771.0          10.02                 0.05           668   \n",
       "44998    12000.0          13.23                 0.36           604   \n",
       "44999     6665.0          17.05                 0.13           628   \n",
       "\n",
       "      previous_loan_defaults_on_file  loan_status  \n",
       "1                                Yes            0  \n",
       "2                                 No            1  \n",
       "5                                 No            1  \n",
       "9                                 No            1  \n",
       "11                                No            1  \n",
       "...                              ...          ...  \n",
       "44995                             No            1  \n",
       "44996                             No            1  \n",
       "44997                             No            1  \n",
       "44998                             No            1  \n",
       "44999                             No            1  \n",
       "\n",
       "[42652 rows x 10 columns]"
      ]
     },
     "execution_count": 33,
     "metadata": {},
     "output_type": "execute_result"
    }
   ],
   "source": [
    "df2"
   ]
  },
  {
   "cell_type": "code",
   "execution_count": 34,
   "id": "4d2e693c-49b4-4b17-a56a-aeeec7cab732",
   "metadata": {},
   "outputs": [],
   "source": [
    "df3=df2.copy()"
   ]
  },
  {
   "cell_type": "code",
   "execution_count": 35,
   "id": "7ef85ea1-b436-49b9-83df-01de865121b9",
   "metadata": {},
   "outputs": [],
   "source": [
    "from sklearn.preprocessing import LabelEncoder\n",
    "df3['previous_loan_defaults_on_file'] = lb.fit_transform(df3['previous_loan_defaults_on_file'])"
   ]
  },
  {
   "cell_type": "code",
   "execution_count": 36,
   "id": "3ee57521-d24c-4c0e-b0b0-b6a08d5cd763",
   "metadata": {},
   "outputs": [
    {
     "data": {
      "text/html": [
       "<div>\n",
       "<style scoped>\n",
       "    .dataframe tbody tr th:only-of-type {\n",
       "        vertical-align: middle;\n",
       "    }\n",
       "\n",
       "    .dataframe tbody tr th {\n",
       "        vertical-align: top;\n",
       "    }\n",
       "\n",
       "    .dataframe thead th {\n",
       "        text-align: right;\n",
       "    }\n",
       "</style>\n",
       "<table border=\"1\" class=\"dataframe\">\n",
       "  <thead>\n",
       "    <tr style=\"text-align: right;\">\n",
       "      <th></th>\n",
       "      <th>person_age</th>\n",
       "      <th>person_income</th>\n",
       "      <th>person_emp_exp</th>\n",
       "      <th>person_home_ownership</th>\n",
       "      <th>loan_amnt</th>\n",
       "      <th>loan_int_rate</th>\n",
       "      <th>loan_percent_income</th>\n",
       "      <th>credit_score</th>\n",
       "      <th>previous_loan_defaults_on_file</th>\n",
       "      <th>loan_status</th>\n",
       "    </tr>\n",
       "  </thead>\n",
       "  <tbody>\n",
       "    <tr>\n",
       "      <th>1</th>\n",
       "      <td>21.0</td>\n",
       "      <td>12282.0</td>\n",
       "      <td>0</td>\n",
       "      <td>2</td>\n",
       "      <td>1000.0</td>\n",
       "      <td>11.14</td>\n",
       "      <td>0.08</td>\n",
       "      <td>504</td>\n",
       "      <td>1</td>\n",
       "      <td>0</td>\n",
       "    </tr>\n",
       "    <tr>\n",
       "      <th>2</th>\n",
       "      <td>25.0</td>\n",
       "      <td>12438.0</td>\n",
       "      <td>3</td>\n",
       "      <td>0</td>\n",
       "      <td>5500.0</td>\n",
       "      <td>12.87</td>\n",
       "      <td>0.44</td>\n",
       "      <td>635</td>\n",
       "      <td>0</td>\n",
       "      <td>1</td>\n",
       "    </tr>\n",
       "    <tr>\n",
       "      <th>5</th>\n",
       "      <td>21.0</td>\n",
       "      <td>12951.0</td>\n",
       "      <td>0</td>\n",
       "      <td>2</td>\n",
       "      <td>2500.0</td>\n",
       "      <td>7.14</td>\n",
       "      <td>0.19</td>\n",
       "      <td>532</td>\n",
       "      <td>0</td>\n",
       "      <td>1</td>\n",
       "    </tr>\n",
       "    <tr>\n",
       "      <th>9</th>\n",
       "      <td>21.0</td>\n",
       "      <td>12739.0</td>\n",
       "      <td>0</td>\n",
       "      <td>2</td>\n",
       "      <td>1600.0</td>\n",
       "      <td>14.74</td>\n",
       "      <td>0.13</td>\n",
       "      <td>640</td>\n",
       "      <td>0</td>\n",
       "      <td>1</td>\n",
       "    </tr>\n",
       "    <tr>\n",
       "      <th>11</th>\n",
       "      <td>21.0</td>\n",
       "      <td>13113.0</td>\n",
       "      <td>0</td>\n",
       "      <td>2</td>\n",
       "      <td>4500.0</td>\n",
       "      <td>8.63</td>\n",
       "      <td>0.34</td>\n",
       "      <td>651</td>\n",
       "      <td>0</td>\n",
       "      <td>1</td>\n",
       "    </tr>\n",
       "    <tr>\n",
       "      <th>...</th>\n",
       "      <td>...</td>\n",
       "      <td>...</td>\n",
       "      <td>...</td>\n",
       "      <td>...</td>\n",
       "      <td>...</td>\n",
       "      <td>...</td>\n",
       "      <td>...</td>\n",
       "      <td>...</td>\n",
       "      <td>...</td>\n",
       "      <td>...</td>\n",
       "    </tr>\n",
       "    <tr>\n",
       "      <th>44995</th>\n",
       "      <td>27.0</td>\n",
       "      <td>47971.0</td>\n",
       "      <td>6</td>\n",
       "      <td>3</td>\n",
       "      <td>15000.0</td>\n",
       "      <td>15.66</td>\n",
       "      <td>0.31</td>\n",
       "      <td>645</td>\n",
       "      <td>0</td>\n",
       "      <td>1</td>\n",
       "    </tr>\n",
       "    <tr>\n",
       "      <th>44996</th>\n",
       "      <td>37.0</td>\n",
       "      <td>65800.0</td>\n",
       "      <td>17</td>\n",
       "      <td>3</td>\n",
       "      <td>9000.0</td>\n",
       "      <td>14.07</td>\n",
       "      <td>0.14</td>\n",
       "      <td>621</td>\n",
       "      <td>0</td>\n",
       "      <td>1</td>\n",
       "    </tr>\n",
       "    <tr>\n",
       "      <th>44997</th>\n",
       "      <td>33.0</td>\n",
       "      <td>56942.0</td>\n",
       "      <td>7</td>\n",
       "      <td>3</td>\n",
       "      <td>2771.0</td>\n",
       "      <td>10.02</td>\n",
       "      <td>0.05</td>\n",
       "      <td>668</td>\n",
       "      <td>0</td>\n",
       "      <td>1</td>\n",
       "    </tr>\n",
       "    <tr>\n",
       "      <th>44998</th>\n",
       "      <td>29.0</td>\n",
       "      <td>33164.0</td>\n",
       "      <td>4</td>\n",
       "      <td>3</td>\n",
       "      <td>12000.0</td>\n",
       "      <td>13.23</td>\n",
       "      <td>0.36</td>\n",
       "      <td>604</td>\n",
       "      <td>0</td>\n",
       "      <td>1</td>\n",
       "    </tr>\n",
       "    <tr>\n",
       "      <th>44999</th>\n",
       "      <td>24.0</td>\n",
       "      <td>51609.0</td>\n",
       "      <td>1</td>\n",
       "      <td>3</td>\n",
       "      <td>6665.0</td>\n",
       "      <td>17.05</td>\n",
       "      <td>0.13</td>\n",
       "      <td>628</td>\n",
       "      <td>0</td>\n",
       "      <td>1</td>\n",
       "    </tr>\n",
       "  </tbody>\n",
       "</table>\n",
       "<p>42652 rows × 10 columns</p>\n",
       "</div>"
      ],
      "text/plain": [
       "       person_age  person_income  person_emp_exp  person_home_ownership  \\\n",
       "1            21.0        12282.0               0                      2   \n",
       "2            25.0        12438.0               3                      0   \n",
       "5            21.0        12951.0               0                      2   \n",
       "9            21.0        12739.0               0                      2   \n",
       "11           21.0        13113.0               0                      2   \n",
       "...           ...            ...             ...                    ...   \n",
       "44995        27.0        47971.0               6                      3   \n",
       "44996        37.0        65800.0              17                      3   \n",
       "44997        33.0        56942.0               7                      3   \n",
       "44998        29.0        33164.0               4                      3   \n",
       "44999        24.0        51609.0               1                      3   \n",
       "\n",
       "       loan_amnt  loan_int_rate  loan_percent_income  credit_score  \\\n",
       "1         1000.0          11.14                 0.08           504   \n",
       "2         5500.0          12.87                 0.44           635   \n",
       "5         2500.0           7.14                 0.19           532   \n",
       "9         1600.0          14.74                 0.13           640   \n",
       "11        4500.0           8.63                 0.34           651   \n",
       "...          ...            ...                  ...           ...   \n",
       "44995    15000.0          15.66                 0.31           645   \n",
       "44996     9000.0          14.07                 0.14           621   \n",
       "44997     2771.0          10.02                 0.05           668   \n",
       "44998    12000.0          13.23                 0.36           604   \n",
       "44999     6665.0          17.05                 0.13           628   \n",
       "\n",
       "       previous_loan_defaults_on_file  loan_status  \n",
       "1                                   1            0  \n",
       "2                                   0            1  \n",
       "5                                   0            1  \n",
       "9                                   0            1  \n",
       "11                                  0            1  \n",
       "...                               ...          ...  \n",
       "44995                               0            1  \n",
       "44996                               0            1  \n",
       "44997                               0            1  \n",
       "44998                               0            1  \n",
       "44999                               0            1  \n",
       "\n",
       "[42652 rows x 10 columns]"
      ]
     },
     "execution_count": 36,
     "metadata": {},
     "output_type": "execute_result"
    }
   ],
   "source": [
    "df3"
   ]
  },
  {
   "cell_type": "code",
   "execution_count": 37,
   "id": "590901e7-2576-46cb-80b3-3ea014023a07",
   "metadata": {},
   "outputs": [
    {
     "data": {
      "text/plain": [
       "previous_loan_defaults_on_file\n",
       "1    21899\n",
       "0    20753\n",
       "Name: count, dtype: int64"
      ]
     },
     "execution_count": 37,
     "metadata": {},
     "output_type": "execute_result"
    }
   ],
   "source": [
    "df3['previous_loan_defaults_on_file'].value_counts()"
   ]
  },
  {
   "cell_type": "code",
   "execution_count": 38,
   "id": "5ea1026d-6a32-4a25-bc12-4bec836a46e3",
   "metadata": {},
   "outputs": [],
   "source": [
    "from sklearn.model_selection import train_test_split\n",
    "from sklearn.preprocessing import LabelEncoder\n",
    "from sklearn.linear_model import LogisticRegression\n",
    "from sklearn.metrics import accuracy_score, classification_report, confusion_matrix"
   ]
  },
  {
   "cell_type": "code",
   "execution_count": 39,
   "id": "b3f7e5aa-c735-4cb6-9d36-d3f6fbf40b20",
   "metadata": {},
   "outputs": [
    {
     "name": "stderr",
     "output_type": "stream",
     "text": [
      "C:\\Users\\suyog\\AppData\\Local\\Temp\\ipykernel_21948\\1558949994.py:4: SettingWithCopyWarning: \n",
      "A value is trying to be set on a copy of a slice from a DataFrame.\n",
      "Try using .loc[row_indexer,col_indexer] = value instead\n",
      "\n",
      "See the caveats in the documentation: https://pandas.pydata.org/pandas-docs/stable/user_guide/indexing.html#returning-a-view-versus-a-copy\n",
      "  df1['person_home_ownership'] = lb.fit_transform(df1['person_home_ownership'])\n",
      "C:\\Users\\suyog\\AppData\\Local\\Temp\\ipykernel_21948\\1558949994.py:5: SettingWithCopyWarning: \n",
      "A value is trying to be set on a copy of a slice from a DataFrame.\n",
      "Try using .loc[row_indexer,col_indexer] = value instead\n",
      "\n",
      "See the caveats in the documentation: https://pandas.pydata.org/pandas-docs/stable/user_guide/indexing.html#returning-a-view-versus-a-copy\n",
      "  df1['previous_loan_defaults_on_file'] = lb.fit_transform(df1['previous_loan_defaults_on_file'])\n",
      "C:\\Users\\suyog\\AppData\\Local\\Temp\\ipykernel_21948\\1558949994.py:6: SettingWithCopyWarning: \n",
      "A value is trying to be set on a copy of a slice from a DataFrame.\n",
      "Try using .loc[row_indexer,col_indexer] = value instead\n",
      "\n",
      "See the caveats in the documentation: https://pandas.pydata.org/pandas-docs/stable/user_guide/indexing.html#returning-a-view-versus-a-copy\n",
      "  df1['loan_status'] = lb.fit_transform(df1['loan_status'])\n"
     ]
    }
   ],
   "source": [
    "# Initialize LabelEncoder\n",
    "lb = LabelEncoder()\n",
    "# Encoding categorical columns\n",
    "df1['person_home_ownership'] = lb.fit_transform(df1['person_home_ownership'])\n",
    "df1['previous_loan_defaults_on_file'] = lb.fit_transform(df1['previous_loan_defaults_on_file'])\n",
    "df1['loan_status'] = lb.fit_transform(df1['loan_status'])"
   ]
  },
  {
   "cell_type": "code",
   "execution_count": 40,
   "id": "89b72dc3-1f44-4751-9382-34a6b85f8c51",
   "metadata": {},
   "outputs": [],
   "source": [
    "X = df1[['person_age', \n",
    "         'person_income', \n",
    "         'person_emp_exp', \n",
    "         'person_home_ownership', \n",
    "         'loan_amnt', \n",
    "         'loan_int_rate', \n",
    "         'loan_percent_income', \n",
    "         'credit_score', \n",
    "         'previous_loan_defaults_on_file']]\n",
    "\n",
    "y = df1[['loan_status']] \n"
   ]
  },
  {
   "cell_type": "code",
   "execution_count": 41,
   "id": "2d233a6b-e266-42a6-b511-d4591a6dcf01",
   "metadata": {},
   "outputs": [],
   "source": [
    "lr = LogisticRegression()"
   ]
  },
  {
   "cell_type": "code",
   "execution_count": 43,
   "id": "9aaed6d8-3102-424c-890f-efd91fb0cdb4",
   "metadata": {
    "scrolled": true
   },
   "outputs": [
    {
     "name": "stdout",
     "output_type": "stream",
     "text": [
      "Accuracy: 84.13333333333334\n",
      "Classification Report:\n",
      "               precision    recall  f1-score   support\n",
      "\n",
      "           0       0.86      0.95      0.90      7076\n",
      "           1       0.71      0.44      0.54      1924\n",
      "\n",
      "    accuracy                           0.84      9000\n",
      "   macro avg       0.78      0.69      0.72      9000\n",
      "weighted avg       0.83      0.84      0.83      9000\n",
      "\n",
      "Confusion Matrix:\n",
      " [[6728  348]\n",
      " [1080  844]]\n"
     ]
    },
    {
     "name": "stderr",
     "output_type": "stream",
     "text": [
      "C:\\Users\\suyog\\AppData\\Roaming\\Python\\Python312\\site-packages\\sklearn\\utils\\validation.py:1408: DataConversionWarning: A column-vector y was passed when a 1d array was expected. Please change the shape of y to (n_samples, ), for example using ravel().\n",
      "  y = column_or_1d(y, warn=True)\n",
      "C:\\Users\\suyog\\AppData\\Roaming\\Python\\Python312\\site-packages\\sklearn\\linear_model\\_logistic.py:465: ConvergenceWarning: lbfgs failed to converge (status=1):\n",
      "STOP: TOTAL NO. OF ITERATIONS REACHED LIMIT.\n",
      "\n",
      "Increase the number of iterations (max_iter) or scale the data as shown in:\n",
      "    https://scikit-learn.org/stable/modules/preprocessing.html\n",
      "Please also refer to the documentation for alternative solver options:\n",
      "    https://scikit-learn.org/stable/modules/linear_model.html#logistic-regression\n",
      "  n_iter_i = _check_optimize_result(\n"
     ]
    }
   ],
   "source": [
    "X_train, X_test, y_train, y_test = train_test_split(X, y, test_size=0.2)\n",
    "model=lr.fit(X_train,y_train)\n",
    "y_pred = model.predict(X_test)\n",
    "\n",
    "# Evaluate model using classification metrics\n",
    "accuracy = accuracy_score(y_test, y_pred)\n",
    "print(\"Accuracy:\", accuracy * 100)\n",
    "\n",
    "# Display classification report\n",
    "print(\"Classification Report:\\n\", classification_report(y_test, y_pred))\n",
    "\n",
    "# Display confusion matrix\n",
    "print(\"Confusion Matrix:\\n\", confusion_matrix(y_test, y_pred))"
   ]
  },
  {
   "cell_type": "code",
   "execution_count": 46,
   "id": "50d6ff82-9e1e-46cc-8a28-f5cb38d109dd",
   "metadata": {},
   "outputs": [
    {
     "name": "stderr",
     "output_type": "stream",
     "text": [
      "C:\\Users\\suyog\\AppData\\Roaming\\Python\\Python312\\site-packages\\sklearn\\utils\\validation.py:2739: UserWarning: X does not have valid feature names, but LogisticRegression was fitted with feature names\n",
      "  warnings.warn(\n"
     ]
    }
   ],
   "source": [
    "prediction = model.predict([[30, 55000, 5, 1, 20000, 8, 0.36, 700, 0]])"
   ]
  },
  {
   "cell_type": "code",
   "execution_count": 47,
   "id": "fb68740c-97d7-4f52-98d7-aa20c7e45abe",
   "metadata": {},
   "outputs": [
    {
     "name": "stdout",
     "output_type": "stream",
     "text": [
      "Prediction:  [0]\n"
     ]
    }
   ],
   "source": [
    "print(\"Prediction: \",prediction)"
   ]
  },
  {
   "cell_type": "code",
   "execution_count": 50,
   "id": "bcb6cecb-3b83-48fb-966d-419a0949be75",
   "metadata": {},
   "outputs": [
    {
     "data": {
      "text/plain": [
       "array([1, 0])"
      ]
     },
     "execution_count": 50,
     "metadata": {},
     "output_type": "execute_result"
    }
   ],
   "source": [
    "# Check unique values in the target variable (loan_status)\n",
    "df['loan_status'].unique()\n"
   ]
  },
  {
   "cell_type": "code",
   "execution_count": 51,
   "id": "de5e5af5-3041-42e0-aac5-f74b8243d00c",
   "metadata": {},
   "outputs": [
    {
     "name": "stdout",
     "output_type": "stream",
     "text": [
      "Predicted Loan Status: Loan Rejected\n"
     ]
    }
   ],
   "source": [
    "# Assuming 0 = Rejected and 1 = Approved\n",
    "prediction_text = \"Loan Rejected\" if prediction[0] == 0 else \"Loan Approved\"\n",
    "print(\"Predicted Loan Status:\", prediction_text)\n"
   ]
  },
  {
   "cell_type": "code",
   "execution_count": null,
   "id": "06a4838f-cbe1-4823-a2c3-9be4895ca357",
   "metadata": {},
   "outputs": [],
   "source": []
  }
 ],
 "metadata": {
  "kernelspec": {
   "display_name": "Python 3 (ipykernel)",
   "language": "python",
   "name": "python3"
  },
  "language_info": {
   "codemirror_mode": {
    "name": "ipython",
    "version": 3
   },
   "file_extension": ".py",
   "mimetype": "text/x-python",
   "name": "python",
   "nbconvert_exporter": "python",
   "pygments_lexer": "ipython3",
   "version": "3.12.7"
  }
 },
 "nbformat": 4,
 "nbformat_minor": 5
}
